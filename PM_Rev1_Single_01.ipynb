{
  "nbformat": 4,
  "nbformat_minor": 0,
  "metadata": {
    "kernelspec": {
      "name": "python3",
      "display_name": "Python 3"
    },
    "language_info": {
      "codemirror_mode": {
        "name": "ipython",
        "version": 3
      },
      "file_extension": ".py",
      "mimetype": "text/x-python",
      "name": "python",
      "nbconvert_exporter": "python",
      "pygments_lexer": "ipython3",
      "version": "3.6.7"
    },
    "colab": {
      "name": "PM_Rev1_Single_01.ipynb",
      "provenance": [],
      "collapsed_sections": [],
      "include_colab_link": true
    },
    "accelerator": "GPU"
  },
  "cells": [
    {
      "cell_type": "markdown",
      "metadata": {
        "id": "view-in-github",
        "colab_type": "text"
      },
      "source": [
        "<a href=\"https://colab.research.google.com/github/TraktylCo/Using-Recurrent-NN-for-Part-of-Speech-tagging-and-Subject-Predicate-Classification/blob/master/PM_Rev1_Single_01.ipynb\" target=\"_parent\"><img src=\"https://colab.research.google.com/assets/colab-badge.svg\" alt=\"Open In Colab\"/></a>"
      ]
    },
    {
      "cell_type": "markdown",
      "metadata": {
        "colab_type": "text",
        "id": "Tujht0uHfX7V"
      },
      "source": [
        "***\n",
        "Nombre de modelo: PM_Rev1_Single_01 \\\\\n",
        "Fecha: 20 Enero 2020 \\\\\n",
        "Autor: David Muñoz Valero \\\\\n",
        "\n",
        "***\n",
        "\n",
        "Modelo con dos redes neuronales para detección de tipos de palabra y suejeto/predicado\n",
        "\n",
        "DB4: Se reduce el ratio de aprendizade de 0.0001 a 0.00001\n",
        "Principales cambios con respecto al modelo original:\n",
        "- Optimizador RMSprop\n",
        "- Reemplazo CuDNNLSTM por CuDNNGRU: Utilizamos celdas GRU en lugar de LSTM, con lo que se pretende obtener resultados similares con un menor tiempo de entrenamiento. \n",
        "- Se ha añadido el guardado de los diccionarios de palabras y etiquetas, al igual que de los grupos de entrenamiento y test.\n",
        "- El entrenamiento de las redes ahora se base en \"online/incremental learning\" con lo cual utilizamos sequencias de tamaño variable. (Batch size = 1)\n",
        "\n",
        "***\n",
        "\n",
        "Se utilizan dos redes neuronales\n",
        "\n",
        "La primera se entrena para identificar tipos de palabras en frases\n",
        "- Datos de entrada: Las palabras de la frase // Salida: Etiquetas de cada palabra (verbo, determinante, etc.)\n",
        "\n",
        "La segunda red se entrena para identificar las frases que forman parte del sujeto y del predicado, dados los tipos de palabras de la frase \n",
        "- Datos entrada: Etiquetas de las palabras // Salida: Etiquetas de sujeto y predicado para cada palabra"
      ]
    },
    {
      "cell_type": "code",
      "metadata": {
        "id": "t4AAp3gldZAf",
        "colab_type": "code",
        "outputId": "b6d4cb06-f472-4483-a143-07044eda4ce9",
        "colab": {
          "base_uri": "https://localhost:8080/",
          "height": 122
        }
      },
      "source": [
        "# Mount GDrive Data\n",
        "\n",
        "from google.colab import drive\n",
        "drive.mount('/content/gdrive')"
      ],
      "execution_count": 0,
      "outputs": [
        {
          "output_type": "stream",
          "text": [
            "Go to this URL in a browser: https://accounts.google.com/o/oauth2/auth?client_id=947318989803-6bn6qk8qdgf4n4g3pfee6491hc0brc4i.apps.googleusercontent.com&redirect_uri=urn%3aietf%3awg%3aoauth%3a2.0%3aoob&response_type=code&scope=email%20https%3a%2f%2fwww.googleapis.com%2fauth%2fdocs.test%20https%3a%2f%2fwww.googleapis.com%2fauth%2fdrive%20https%3a%2f%2fwww.googleapis.com%2fauth%2fdrive.photos.readonly%20https%3a%2f%2fwww.googleapis.com%2fauth%2fpeopleapi.readonly\n",
            "\n",
            "Enter your authorization code:\n",
            "··········\n",
            "Mounted at /content/gdrive\n"
          ],
          "name": "stdout"
        }
      ]
    },
    {
      "cell_type": "code",
      "metadata": {
        "id": "qOdeU0r3c9SA",
        "colab_type": "code",
        "outputId": "5cc73d91-7bfa-439b-ee33-801da2cfeada",
        "colab": {
          "base_uri": "https://localhost:8080/",
          "height": 289
        }
      },
      "source": [
        "# Read dataset & build data variables\n",
        "\n",
        "import time\n",
        "import nltk\n",
        "from nltk.corpus import BracketParseCorpusReader\n",
        "\n",
        "# Time (Code snippet from StackOverflow user: Mr. B)\n",
        "\n",
        "intervals = (\n",
        "    ('weeks', 604800),  # 60 * 60 * 24 * 7\n",
        "    ('days', 86400),    # 60 * 60 * 24\n",
        "    ('hours', 3600),    # 60 * 60\n",
        "    ('minutes', 60),\n",
        "    ('seconds', 1),\n",
        "    )\n",
        "\n",
        "def display_time(seconds, granularity=2):\n",
        "    result = []\n",
        "\n",
        "    for name, count in intervals:\n",
        "        value = seconds // count\n",
        "        if value:\n",
        "            seconds -= value * count\n",
        "            if value == 1:\n",
        "                name = name.rstrip('s')\n",
        "            result.append(\"{} {}\".format(value, name))\n",
        "    return ', '.join(result[:granularity])\n",
        "\n",
        "# Import dataset from drive directory\n",
        "corpus_root = r\"/content/gdrive/My Drive/datasets/PennTreeBank/\"\n",
        "file_pattern = r'.*\\.mrg'\n",
        "ptb = BracketParseCorpusReader(corpus_root, file_pattern)\n",
        "\n",
        "# Import parsed sentences from the corpus\n",
        "sentences = ptb.parsed_sents()\n",
        "\n",
        "print(\"Total sentences: \", len(sentences))\n",
        "\n",
        "# Global variables\n",
        "input_X = [[] for x in range(len(sentences))] # Save sentences words\n",
        "input_Y = [[] for x in range(len(sentences))] # Save sentences tags\n",
        "tag = \"\"\n",
        "buff = \"\"\n",
        "count = 0\n",
        "\n",
        "# Recursive iteration through NLTK Trees\n",
        "def iterate_tree(sent):\n",
        "    \n",
        "    global tag\n",
        "  \n",
        "    if not tag.endswith(\"_\"):\n",
        "        tag += \"_\"\n",
        "    \n",
        "    buff = str(sent.label())\n",
        "    buff = buff.split(\"-\")[0]\n",
        "\n",
        "    tag += buff + \"_\"\n",
        "    buff = \"\"\n",
        "    \n",
        "    for tok in sent:\n",
        "        if type(tok) is nltk.tree.Tree:\n",
        "            iterate_tree(tok)\n",
        "        elif type(tok) is str:\n",
        "            input_X[count].append(tok)\n",
        "            input_Y[count].append(tag.split('_')[1:-1])\n",
        "        \n",
        "        tag = tag.split('_')\n",
        "        tag = tag[:-1]\n",
        "        tag = '_'.join(tag)\n",
        "\n",
        "for sentence in sentences:\n",
        "    iterate_tree(sentence)\n",
        "    tag = \"\"\n",
        "    count += 1\n",
        "\n",
        "# Delete sentences with less than two words \n",
        "for i in reversed(range(len(input_X))):\n",
        "    if (len(input_X[i]) < 2) or (len(input_Y[i]) < 2):\n",
        "        input_X.pop(i)\n",
        "        input_Y.pop(i)\n",
        "\n",
        "print(len(input_X))\n",
        "print(len(input_Y))\n",
        "\n",
        "print(\"Finished!\")"
      ],
      "execution_count": 0,
      "outputs": [
        {
          "output_type": "stream",
          "text": [
            "Bad tree detected; trying to recover...\n",
            "  Recovered by returning a flat parse.\n",
            "Bad tree detected; trying to recover...\n",
            "  Recovered by returning a flat parse.\n",
            "Bad tree detected; trying to recover...\n",
            "  Recovered by returning a flat parse.\n"
          ],
          "name": "stderr"
        },
        {
          "output_type": "stream",
          "text": [
            "Total sentences:  6139\n"
          ],
          "name": "stdout"
        },
        {
          "output_type": "stream",
          "text": [
            "Bad tree detected; trying to recover...\n",
            "  Recovered by returning a flat parse.\n",
            "Bad tree detected; trying to recover...\n",
            "  Recovered by returning a flat parse.\n",
            "Bad tree detected; trying to recover...\n",
            "  Recovered by returning a flat parse.\n"
          ],
          "name": "stderr"
        },
        {
          "output_type": "stream",
          "text": [
            "5637\n",
            "5637\n",
            "Finished!\n"
          ],
          "name": "stdout"
        }
      ]
    },
    {
      "cell_type": "code",
      "metadata": {
        "id": "DSjSMvPfuhL8",
        "colab_type": "code",
        "colab": {}
      },
      "source": [
        "# Clean tags splitted by \"=\"\n",
        "\n",
        "for i, sentence in enumerate(input_Y):\n",
        "    for j, wtag in enumerate(sentence):\n",
        "        for k, tag in enumerate(wtag):\n",
        "          if(tag.find('=') != -1):\n",
        "            tag = tag.split('_')\n",
        "            tag = tag[:-1]\n",
        "            input_Y[i][j][k]=str(tag)"
      ],
      "execution_count": 0,
      "outputs": []
    },
    {
      "cell_type": "code",
      "metadata": {
        "id": "UhQDMJqi7sCk",
        "colab_type": "code",
        "colab": {}
      },
      "source": [
        "# Delete empty elements\n",
        "\n",
        "for i in reversed(range(len(input_Y))):\n",
        "  for j in reversed(range(len(input_Y[i]))):\n",
        "    for k in reversed(range(len(input_Y[i][j]))):\n",
        "      if not input_Y[i][j][k]:\n",
        "        input_Y[i][j].pop(k)"
      ],
      "execution_count": 0,
      "outputs": []
    },
    {
      "cell_type": "code",
      "metadata": {
        "id": "tSokLM_0oOMP",
        "colab_type": "code",
        "colab": {}
      },
      "source": [
        "# Read dataset & build data variables\n",
        "\n",
        "splitters = [\",\", \".\", \":\"]\n",
        "\n",
        "sentences = [[]]\n",
        "tags = [[]]\n",
        "\n",
        "count = 0\n",
        "for i, sentence in enumerate(input_X):\n",
        "  for j, word in enumerate(sentence):\n",
        "    if word in splitters:\n",
        "      sentences.append(list())\n",
        "      tags.append(list())\n",
        "      count += 1\n",
        "    else:\n",
        "      sentences[count].append(word)\n",
        "      tags[count].append(input_Y[i][j])"
      ],
      "execution_count": 0,
      "outputs": []
    },
    {
      "cell_type": "code",
      "metadata": {
        "id": "vI0okMfhaoWl",
        "colab_type": "code",
        "colab": {}
      },
      "source": [
        "  # Delete words that start with * or - \n",
        "\n",
        "for i in reversed(range(len(sentences))):\n",
        "  for j in reversed(range(len(sentences[i]))):\n",
        "      if sentences[i][j][0] == \"*\" or sentences[i][j][0] == \"-\" or sentences[i][j][0] == \"<\":\n",
        "        sentences[i].pop(j)\n",
        "        tags[i].pop(j)"
      ],
      "execution_count": 0,
      "outputs": []
    },
    {
      "cell_type": "code",
      "metadata": {
        "id": "1KY7hgR-b9kw",
        "colab_type": "code",
        "colab": {}
      },
      "source": [
        "# Delete elements with only one tag\n",
        "\n",
        "for i in reversed(range(len(tags))):\n",
        "  for j in reversed(range(len(tags[i]))):\n",
        "      if len(tags[i][j]) < 2:\n",
        "        tags[i].pop(j)\n",
        "        tags[i].pop(j)"
      ],
      "execution_count": 0,
      "outputs": []
    },
    {
      "cell_type": "code",
      "metadata": {
        "id": "pIbzNK4D24aK",
        "colab_type": "code",
        "colab": {}
      },
      "source": [
        "# Make sure every sentence starts with 'S' tag\n",
        "\n",
        "for i, sentence in enumerate(tags):\n",
        "    for j, wtag in enumerate(sentence):\n",
        "      if tags[i][j][0] != 'S':\n",
        "        tags[i][j].insert(0,'S')"
      ],
      "execution_count": 0,
      "outputs": []
    },
    {
      "cell_type": "code",
      "metadata": {
        "id": "HiUmNcyB8VLR",
        "colab_type": "code",
        "outputId": "7051021e-a260-4ebc-c48a-d39896cc5dbf",
        "colab": {
          "base_uri": "https://localhost:8080/",
          "height": 51
        }
      },
      "source": [
        "for i in reversed(range(len(sentences))):\n",
        "  if len(sentences[i]) < 2:\n",
        "      sentences.pop(i)\n",
        "      tags.pop(i)\n",
        "\n",
        "print(len(sentences))\n",
        "print(len(tags))"
      ],
      "execution_count": 0,
      "outputs": [
        {
          "output_type": "stream",
          "text": [
            "8381\n",
            "8381\n"
          ],
          "name": "stdout"
        }
      ]
    },
    {
      "cell_type": "code",
      "metadata": {
        "id": "1i-FnhNPmswR",
        "colab_type": "code",
        "colab": {}
      },
      "source": [
        "# POS tags\n",
        "import copy\n",
        "\n",
        "training_1stNN = copy.deepcopy(tags)\n",
        "\n",
        "for i, sentence in enumerate(training_1stNN):\n",
        "    for j, wtag in enumerate(sentence):\n",
        "      training_1stNN[i][j] = training_1stNN[i][j][-1]"
      ],
      "execution_count": 0,
      "outputs": []
    },
    {
      "cell_type": "code",
      "metadata": {
        "id": "P743XEu2tbBN",
        "colab_type": "code",
        "outputId": "84b93571-3cd0-4416-ea76-8dc9cff06045",
        "colab": {
          "base_uri": "https://localhost:8080/",
          "height": 51
        }
      },
      "source": [
        "# NP & VP\n",
        "import copy \n",
        "\n",
        "training_2ndNN = [[] for _ in range(len(tags))]\n",
        "\n",
        "sentences_2nd = copy.deepcopy(training_1stNN)\n",
        "\n",
        "for i, sentence in enumerate(tags):\n",
        "    for j, word in enumerate(sentence):\n",
        "      for k, tag in enumerate(word):\n",
        "        if tag == \"NP\" or tag == \"VP\":\n",
        "          training_2ndNN[i].append(tag)\n",
        "          break\n",
        "      \n",
        "      try:\n",
        "        training_2ndNN[i][j]\n",
        "      except:\n",
        "        training_2ndNN[i].append(\"-PAD-\")\n",
        "\n",
        "for i in reversed(range(len(training_2ndNN))):\n",
        "  for j in reversed(range(len(training_2ndNN[i]))):\n",
        "    if training_2ndNN[i][j] == \"-PAD-\":\n",
        "      training_2ndNN[i].pop(j)\n",
        "      sentences_2nd[i].pop(j)\n",
        "\n",
        "for i in reversed(range(len(training_2ndNN))):\n",
        "  if len(training_2ndNN[i]) < 2:\n",
        "      sentences_2nd.pop(i)\n",
        "      training_2ndNN.pop(i)\n",
        "\n",
        "print(len(sentences_2nd))\n",
        "print(len(training_2ndNN))"
      ],
      "execution_count": 0,
      "outputs": [
        {
          "output_type": "stream",
          "text": [
            "8109\n",
            "8109\n"
          ],
          "name": "stdout"
        }
      ]
    },
    {
      "cell_type": "code",
      "metadata": {
        "id": "v27i3GYIAMMA",
        "colab_type": "code",
        "outputId": "271a74fa-4cc9-4aed-ab63-801318475b4e",
        "colab": {
          "base_uri": "https://localhost:8080/",
          "height": 51
        }
      },
      "source": [
        "print(len(sentences_2nd))\n",
        "print(len(training_2ndNN))"
      ],
      "execution_count": 0,
      "outputs": [
        {
          "output_type": "stream",
          "text": [
            "8109\n",
            "8109\n"
          ],
          "name": "stdout"
        }
      ]
    },
    {
      "cell_type": "code",
      "metadata": {
        "id": "3AbJRTL8dKWz",
        "colab_type": "code",
        "outputId": "677b576d-ca56-4553-b38a-be16e87bda6b",
        "colab": {
          "base_uri": "https://localhost:8080/",
          "height": 34
        }
      },
      "source": [
        "# Create words and tags dictionaries using Keras Tokenizer\n",
        "%tensorflow_version 1.x\n",
        "\n",
        "import tensorflow as tf\n",
        "from tensorflow.python.keras.preprocessing.text import Tokenizer\n",
        "import numpy as np\n",
        "\n",
        "w = Tokenizer()\n",
        "p = Tokenizer()\n",
        "t = Tokenizer()\n",
        "\n",
        "# Words dictionary\n",
        "w.fit_on_texts(sentences_2nd)\n",
        "w.word_index['-PAD-'.lower()] = 0\n",
        "\n",
        "word_index = w.word_index\n",
        "np.save('word_index_db4.npy', word_index)\n",
        "\n",
        "# 2nd NN training\n",
        "t.fit_on_texts(training_2ndNN)\n",
        "t.word_index['-PAD-'.lower()] = 0\n",
        "\n",
        "sp_index = t.word_index\n",
        "np.save('sp_index_db4.npy', sp_index)\n",
        "\n",
        "print(\"Finished!\")"
      ],
      "execution_count": 0,
      "outputs": [
        {
          "output_type": "stream",
          "text": [
            "Finished!\n"
          ],
          "name": "stdout"
        }
      ]
    },
    {
      "cell_type": "code",
      "metadata": {
        "id": "DaHAHtAatJBg",
        "colab_type": "code",
        "colab": {}
      },
      "source": [
        "sub = 0\n",
        "pre = 0\n",
        "pad = 0\n",
        "count = 0\n",
        "\n",
        "for sentence in training_2ndNN:\n",
        "  for word in sentence:\n",
        "    count += 1\n",
        "    if word == \"NP\":\n",
        "      sub += 1\n",
        "    elif word == \"VP\":\n",
        "      pre += 1\n",
        "    else:\n",
        "      pad += 1"
      ],
      "execution_count": 0,
      "outputs": []
    },
    {
      "cell_type": "code",
      "metadata": {
        "id": "OU93BZsEtcJO",
        "colab_type": "code",
        "outputId": "cab8e11b-0382-40f9-80c2-943ce499c5d6",
        "colab": {
          "base_uri": "https://localhost:8080/",
          "height": 102
        }
      },
      "source": [
        "print(\"Subject tags: \", sub)\n",
        "print(\"Predicate tags: \", pre)\n",
        "print(\"Pad tags: \", pad)\n",
        "print(\"Total: \", count)\n",
        "print(\"Sum: \", sub+pre+pad)"
      ],
      "execution_count": 0,
      "outputs": [
        {
          "output_type": "stream",
          "text": [
            "Subject tags:  18031\n",
            "Predicate tags:  66969\n",
            "Pad tags:  0\n",
            "Total:  85000\n",
            "Sum:  85000\n"
          ],
          "name": "stdout"
        }
      ]
    },
    {
      "cell_type": "code",
      "metadata": {
        "scrolled": true,
        "id": "0bS1pY0Ec9SD",
        "colab_type": "code",
        "colab": {}
      },
      "source": [
        "# ************************************************************\n",
        "# ****************  1st Neural Network ***********************\n",
        "# ************************************************************\n",
        "\n",
        "from sklearn.model_selection import train_test_split\n",
        "\n",
        "np.save('sentences_s1.npy', sentences_2nd)\n",
        "np.save('training_s1.npy', training_2ndNN)\n",
        "\n",
        "train_sentences, test_sentences, train_sp, test_sp = train_test_split(sentences_2nd, training_2ndNN, shuffle=True, test_size=0.3, random_state=5)\n",
        "\n",
        "np.save('train_sentences_db4.npy', train_sentences)\n",
        "np.save('test_sentences_db4.npy', test_sentences)\n",
        "np.save('train_sp_s1.npy', train_sp)\n",
        "np.save('test_sp_s1.npy', test_sp)\n",
        "\n",
        "train_enc_sent, test_enc_sent = [], []\n",
        "train_enc_sp, test_enc_sp = [], []\n",
        "\n",
        "for s in train_sentences:\n",
        "    train_enc_sent.append([word_index[word.lower()] for word in s])\n",
        "\n",
        "for s in test_sentences:\n",
        "    test_enc_sent.append([word_index[word.lower()] for word in s])        \n",
        "                \n",
        "for s in train_sp:\n",
        "    train_enc_sp.append([sp_index[word.lower()] for word in s])\n",
        "\n",
        "for s in test_sp:\n",
        "    test_enc_sp.append([sp_index[word.lower()] for word in s])"
      ],
      "execution_count": 0,
      "outputs": []
    },
    {
      "cell_type": "code",
      "metadata": {
        "id": "vR-wQ_drmtLS",
        "colab_type": "code",
        "outputId": "d5624276-36f7-467e-95cd-7bf672e81c09",
        "colab": {
          "base_uri": "https://localhost:8080/",
          "height": 34
        }
      },
      "source": [
        "# Import pre-trained GloVe Word-Vectors (To use in Keras Embedding layer)\n",
        "\n",
        "import os\n",
        "import numpy as np\n",
        "\n",
        "embeddings_index = {}\n",
        "f = open(os.path.join('/content/gdrive/My Drive/datasets/glove.6B.100d.txt'))\n",
        "\n",
        "for line in f:\n",
        "    values = line.split()\n",
        "    word = values[0]\n",
        "    coefs = np.asarray(values[1:], dtype='float32')\n",
        "    embeddings_index[word] = coefs\n",
        "f.close()\n",
        "\n",
        "print('Found %s word vectors.' % len(embeddings_index))\n",
        "\n",
        "EMBEDDING_DIM = 100\n",
        "\n",
        "embedding_matrix = np.zeros((len(word_index) + 1, EMBEDDING_DIM))\n",
        "\n",
        "for word, i in word_index.items():\n",
        "    embedding_vector = embeddings_index.get(word)\n",
        "    if embedding_vector is not None:\n",
        "        # words not found in embedding index will be all-zeros.\n",
        "        embedding_matrix[i] = embedding_vector"
      ],
      "execution_count": 0,
      "outputs": [
        {
          "output_type": "stream",
          "text": [
            "Found 400000 word vectors.\n"
          ],
          "name": "stdout"
        }
      ]
    },
    {
      "cell_type": "code",
      "metadata": {
        "id": "vxMe66wfm01S",
        "colab_type": "code",
        "outputId": "518db26a-f0ae-40d5-8d72-b965076727d1",
        "colab": {
          "base_uri": "https://localhost:8080/",
          "height": 292
        }
      },
      "source": [
        "# Neural Network Architecture\n",
        "\n",
        "from tensorflow.python.keras.models import Sequential\n",
        "from tensorflow.python.keras.layers import *\n",
        "from tensorflow.python.keras import backend as K\n",
        "\n",
        "model1 = Sequential()\n",
        "#model.add(InputLayer(input_shape=(None, 1))) # Bug when load_model() is called in Keras 2.2.X \n",
        "model1.add(Lambda(lambda model1: K.batch_flatten(model1), input_shape=(None, 1)))\n",
        "model1.add(Embedding(len(word_index) + 1, EMBEDDING_DIM, weights=[embedding_matrix], trainable=False))\n",
        "model1.add(Bidirectional(CuDNNGRU(128, return_sequences=True)))\n",
        "model1.add(Dropout(0.15))\n",
        "model1.add(TimeDistributed(Dense(len(sp_index))))\n",
        "model1.add(Activation(\"softmax\"))"
      ],
      "execution_count": 0,
      "outputs": [
        {
          "output_type": "stream",
          "text": [
            "WARNING:tensorflow:From /usr/local/lib/python3.6/dist-packages/tensorflow_core/python/keras/initializers.py:119: calling RandomUniform.__init__ (from tensorflow.python.ops.init_ops) with dtype is deprecated and will be removed in a future version.\n",
            "Instructions for updating:\n",
            "Call initializer instance with the dtype argument instead of passing it to the constructor\n",
            "WARNING:tensorflow:From /usr/local/lib/python3.6/dist-packages/tensorflow_core/python/ops/resource_variable_ops.py:1630: calling BaseResourceVariable.__init__ (from tensorflow.python.ops.resource_variable_ops) with constraint is deprecated and will be removed in a future version.\n",
            "Instructions for updating:\n",
            "If using Keras pass *_constraint arguments to layers.\n",
            "WARNING:tensorflow:From /usr/local/lib/python3.6/dist-packages/tensorflow_core/python/ops/init_ops.py:97: calling GlorotUniform.__init__ (from tensorflow.python.ops.init_ops) with dtype is deprecated and will be removed in a future version.\n",
            "Instructions for updating:\n",
            "Call initializer instance with the dtype argument instead of passing it to the constructor\n",
            "WARNING:tensorflow:From /usr/local/lib/python3.6/dist-packages/tensorflow_core/python/ops/init_ops.py:97: calling Orthogonal.__init__ (from tensorflow.python.ops.init_ops) with dtype is deprecated and will be removed in a future version.\n",
            "Instructions for updating:\n",
            "Call initializer instance with the dtype argument instead of passing it to the constructor\n",
            "WARNING:tensorflow:From /usr/local/lib/python3.6/dist-packages/tensorflow_core/python/ops/init_ops.py:97: calling Zeros.__init__ (from tensorflow.python.ops.init_ops) with dtype is deprecated and will be removed in a future version.\n",
            "Instructions for updating:\n",
            "Call initializer instance with the dtype argument instead of passing it to the constructor\n"
          ],
          "name": "stdout"
        }
      ]
    },
    {
      "cell_type": "code",
      "metadata": {
        "id": "PJO7keFrm-R2",
        "colab_type": "code",
        "outputId": "1cea080b-1179-47c5-a7ec-f8680c25ccf0",
        "colab": {
          "base_uri": "https://localhost:8080/",
          "height": 391
        }
      },
      "source": [
        "# Compile model\n",
        "\n",
        "import tensorflow as tf\n",
        "from tensorflow.python.keras.optimizers import RMSprop\n",
        "\n",
        "model1.compile(loss='sparse_categorical_crossentropy',\n",
        "              optimizer=RMSprop(lr=0.00001),\n",
        "              metrics=['sparse_categorical_accuracy'])\n",
        "\n",
        "print(\"Keras version: \", tf.keras.__version__)\n",
        "print(\"Tensorflow version: \", tf.__version__)\n",
        "model1.summary()"
      ],
      "execution_count": 0,
      "outputs": [
        {
          "output_type": "stream",
          "text": [
            "Keras version:  2.2.4-tf\n",
            "Tensorflow version:  1.15.0\n",
            "Model: \"sequential\"\n",
            "_________________________________________________________________\n",
            "Layer (type)                 Output Shape              Param #   \n",
            "=================================================================\n",
            "lambda (Lambda)              (None, None)              0         \n",
            "_________________________________________________________________\n",
            "embedding (Embedding)        (None, None, 100)         5400      \n",
            "_________________________________________________________________\n",
            "bidirectional (Bidirectional (None, None, 256)         176640    \n",
            "_________________________________________________________________\n",
            "dropout (Dropout)            (None, None, 256)         0         \n",
            "_________________________________________________________________\n",
            "time_distributed (TimeDistri (None, None, 3)           771       \n",
            "_________________________________________________________________\n",
            "activation (Activation)      (None, None, 3)           0         \n",
            "=================================================================\n",
            "Total params: 182,811\n",
            "Trainable params: 177,411\n",
            "Non-trainable params: 5,400\n",
            "_________________________________________________________________\n"
          ],
          "name": "stdout"
        }
      ]
    },
    {
      "cell_type": "code",
      "metadata": {
        "id": "eay6O9oQnGCo",
        "colab_type": "code",
        "outputId": "45562914-3b44-4c89-9294-fd326c6ec498",
        "colab": {
          "base_uri": "https://localhost:8080/",
          "height": 51
        }
      },
      "source": [
        "# Prepare training data\n",
        "\n",
        "# Convert data to numpy array\n",
        "train_enc_sent = np.array(train_enc_sent)\n",
        "train_enc_sp = np.array(train_enc_sp)\n",
        "\n",
        "for i, v in enumerate(train_enc_sent):\n",
        "    v = np.array(v)\n",
        "    train_enc_sent[i] = v\n",
        "\n",
        "for i, v in enumerate(train_enc_sp):\n",
        "    v = np.array(v)\n",
        "    train_enc_sp[i] = v    \n",
        "\n",
        "# Show data shape (it only shows first dimension, since the others are different for each sequence)\n",
        "print(train_enc_sent.shape)\n",
        "print(train_enc_sp.shape)\n",
        "\n",
        "for i in range(len(train_enc_sent)):\n",
        "  train_enc_sent[i] = train_enc_sent[i].reshape(1, len(train_enc_sent[i]), 1)\n",
        "  train_enc_sp[i] = train_enc_sp[i].reshape(1, len(train_enc_sp[i]), 1)\n",
        "\n",
        "for i in range(len(train_enc_sent)):\n",
        "  train_enc_sent[i] = np.array(train_enc_sent[i])\n",
        "  train_enc_sp[i] = np.array(train_enc_sp[i])"
      ],
      "execution_count": 0,
      "outputs": [
        {
          "output_type": "stream",
          "text": [
            "(5676,)\n",
            "(5676,)\n"
          ],
          "name": "stdout"
        }
      ]
    },
    {
      "cell_type": "code",
      "metadata": {
        "id": "M8cIzvbvvEGM",
        "colab_type": "code",
        "outputId": "3c337c39-18f3-47e5-a3ee-7dc6f0a8b6c1",
        "colab": {
          "base_uri": "https://localhost:8080/",
          "height": 51
        }
      },
      "source": [
        "# Prepare test data\n",
        "\n",
        "# Convert data to numpy array\n",
        "test_enc_sent = np.array(test_enc_sent)\n",
        "test_enc_sp = np.array(test_enc_sp)\n",
        "\n",
        "for i, v in enumerate(test_enc_sent):\n",
        "    v = np.array(v)\n",
        "    test_enc_sent[i] = v\n",
        "    \n",
        "for i, v in enumerate(test_enc_sp):\n",
        "    v = np.array(v)\n",
        "    test_enc_sp[i] = v\n",
        "\n",
        "# Show data shape (it only shows first dimension, since the others are different for each sequence)\n",
        "print(test_enc_sent.shape)\n",
        "print(test_enc_sp.shape)\n",
        "\n",
        "for i in range(len(test_enc_sent)):\n",
        "  test_enc_sent[i] = test_enc_sent[i].reshape(1, len(test_enc_sent[i]), 1)\n",
        "  test_enc_sp[i] = test_enc_sp[i].reshape(1, len(test_enc_sp[i]), 1)\n",
        "\n",
        "for i in range(len(test_enc_sent)):\n",
        "  test_enc_sent[i] = np.array(test_enc_sent[i])\n",
        "  test_enc_sp[i] = np.array(test_enc_sp[i])"
      ],
      "execution_count": 0,
      "outputs": [
        {
          "output_type": "stream",
          "text": [
            "(2433,)\n",
            "(2433,)\n"
          ],
          "name": "stdout"
        }
      ]
    },
    {
      "cell_type": "code",
      "metadata": {
        "id": "XTuFlrfJnOSC",
        "colab_type": "code",
        "outputId": "ec123d37-06da-4b7e-fc68-6d9168557248",
        "colab": {
          "base_uri": "https://localhost:8080/",
          "height": 1000
        }
      },
      "source": [
        "# Fit the model\n",
        "from tensorflow.python.client import device_lib\n",
        "print(device_lib.list_local_devices())\n",
        "\n",
        "acc_log = []\n",
        "loss_log = []\n",
        "\n",
        "acc_test = []\n",
        "loss_test = []\n",
        "\n",
        "start = time.time()\n",
        "\n",
        "for epoch in range(25):\n",
        "    print(\"Epoch \", epoch+1, end='')\n",
        "    startl = time.time()\n",
        "\n",
        "    history = [model1.fit(seq, label, verbose=0) for seq, label in zip(train_enc_sent, train_enc_sp)] \n",
        "\n",
        "    scores = [model1.evaluate(seq, label, verbose=0) for seq, label in zip(test_enc_sent, test_enc_sp)]\n",
        "\n",
        "    x, y = [], []\n",
        "\n",
        "    for i in range(len(history)):\n",
        "      x.append(history[i].history['sparse_categorical_accuracy'][0])\n",
        "      y.append(history[i].history['loss'][0])\n",
        "      \n",
        "    acc = sum(x) / len(history)\n",
        "    acc_log.append(acc)\n",
        "\n",
        "    lss = sum(y) / len(history)\n",
        "    loss_log.append(lss)\n",
        "\n",
        "    print(\" - sparse_categorical_accuracy: \", acc, end='')\n",
        "    print(\" - loss: \", lss, end='')\n",
        "\n",
        "    x, y = [], []\n",
        "\n",
        "    for i in range(len(scores)):\n",
        "      x.append(scores[i][1])\n",
        "      y.append(scores[i][0])\n",
        "      \n",
        "    acct = sum(x) / len(scores)\n",
        "    acc_test.append(acct)\n",
        "\n",
        "    lsst = sum(y) / len(scores)\n",
        "    loss_test.append(lsst)\n",
        "\n",
        "    print(\" - test sparse_categorical_accuracy: \", acct, end='')\n",
        "    print(\" - test loss: \", lsst, end='')\n",
        "\n",
        "    endl = time.time()        \n",
        "    elapsed_time = endl-startl\n",
        "    print(\", Elapsed time: \", display_time(elapsed_time))\n",
        "\n",
        "end = time.time()\n",
        "elapsed_time = end-start\n",
        "print(\"Elapsed time: \", display_time(elapsed_time))\n",
        "\n",
        "# Save Model\n",
        "model1.save('PM_REV_S1.h5')\n",
        "np.save('acc_log_s1.npy', acc_log)\n",
        "np.save('loss_log_s1_db4.npy', loss_log)\n",
        "np.save('acc_test_s1.npy', acc_test)\n",
        "np.save('loss_test_s1.npy', loss_test)"
      ],
      "execution_count": 0,
      "outputs": [
        {
          "output_type": "stream",
          "text": [
            "[name: \"/device:CPU:0\"\n",
            "device_type: \"CPU\"\n",
            "memory_limit: 268435456\n",
            "locality {\n",
            "}\n",
            "incarnation: 6817690838781893579\n",
            ", name: \"/device:XLA_CPU:0\"\n",
            "device_type: \"XLA_CPU\"\n",
            "memory_limit: 17179869184\n",
            "locality {\n",
            "}\n",
            "incarnation: 10891529216391646864\n",
            "physical_device_desc: \"device: XLA_CPU device\"\n",
            ", name: \"/device:XLA_GPU:0\"\n",
            "device_type: \"XLA_GPU\"\n",
            "memory_limit: 17179869184\n",
            "locality {\n",
            "}\n",
            "incarnation: 3487847152736704418\n",
            "physical_device_desc: \"device: XLA_GPU device\"\n",
            ", name: \"/device:GPU:0\"\n",
            "device_type: \"GPU\"\n",
            "memory_limit: 14912199066\n",
            "locality {\n",
            "  bus_id: 1\n",
            "  links {\n",
            "  }\n",
            "}\n",
            "incarnation: 440482257789937718\n",
            "physical_device_desc: \"device: 0, name: Tesla T4, pci bus id: 0000:00:04.0, compute capability: 7.5\"\n",
            "]\n",
            "Epoch  1WARNING:tensorflow:From /usr/local/lib/python3.6/dist-packages/tensorflow_core/python/ops/math_grad.py:1424: where (from tensorflow.python.ops.array_ops) is deprecated and will be removed in a future version.\n",
            "Instructions for updating:\n",
            "Use tf.where in 2.0, which has the same broadcast rule as np.where\n",
            " - sparse_categorical_accuracy:  0.7582213722708897 - loss:  0.578543435209224 - test sparse_categorical_accuracy:  0.8070875406050898 - test loss:  0.4686069370795193, Elapsed time:  2.0 minutes, 23.0 seconds\n",
            "Epoch  2 - sparse_categorical_accuracy:  0.8269021719309532 - loss:  0.4417772820075663 - test sparse_categorical_accuracy:  0.8280293183608698 - test loss:  0.4332253492172797, Elapsed time:  48.0 seconds\n",
            "Epoch  3 - sparse_categorical_accuracy:  0.8361566945808068 - loss:  0.41722969329240583 - test sparse_categorical_accuracy:  0.8341173963706238 - test loss:  0.41776184807120037, Elapsed time:  49.0 seconds\n",
            "Epoch  4 - sparse_categorical_accuracy:  0.8388953275691096 - loss:  0.4041956553927743 - test sparse_categorical_accuracy:  0.8381763021616695 - test loss:  0.407371955202564, Elapsed time:  49.0 seconds\n",
            "Epoch  5 - sparse_categorical_accuracy:  0.8428586659194288 - loss:  0.3950642590331264 - test sparse_categorical_accuracy:  0.8433474424967685 - test loss:  0.39925157741987616, Elapsed time:  49.0 seconds\n",
            "Epoch  6 - sparse_categorical_accuracy:  0.8453783818177348 - loss:  0.38885629867766985 - test sparse_categorical_accuracy:  0.8456773475039118 - test loss:  0.39268992589599083, Elapsed time:  49.0 seconds\n",
            "Epoch  7 - sparse_categorical_accuracy:  0.8488996977776084 - loss:  0.38219664585228597 - test sparse_categorical_accuracy:  0.8484959511895558 - test loss:  0.3879586365894999, Elapsed time:  50.0 seconds\n",
            "Epoch  8 - sparse_categorical_accuracy:  0.851388307485186 - loss:  0.3783530244366492 - test sparse_categorical_accuracy:  0.8507596252725735 - test loss:  0.38318662121095776, Elapsed time:  49.0 seconds\n",
            "Epoch  9 - sparse_categorical_accuracy:  0.8534033887532629 - loss:  0.37418478639943065 - test sparse_categorical_accuracy:  0.852816224701479 - test loss:  0.37920532423001513, Elapsed time:  49.0 seconds\n",
            "Epoch  10 - sparse_categorical_accuracy:  0.8537313633521597 - loss:  0.37132814566183436 - test sparse_categorical_accuracy:  0.853259910216522 - test loss:  0.37575305669319287, Elapsed time:  49.0 seconds\n",
            "Epoch  11 - sparse_categorical_accuracy:  0.8553880507948823 - loss:  0.36765567082376827 - test sparse_categorical_accuracy:  0.8540230289337398 - test loss:  0.37285843612744857, Elapsed time:  49.0 seconds\n",
            "Epoch  12 - sparse_categorical_accuracy:  0.8555213233362161 - loss:  0.36462460816614695 - test sparse_categorical_accuracy:  0.855570102013277 - test loss:  0.369777734537042, Elapsed time:  49.0 seconds\n",
            "Epoch  13 - sparse_categorical_accuracy:  0.8568606736050516 - loss:  0.3626975850356379 - test sparse_categorical_accuracy:  0.8560144932985772 - test loss:  0.36728630236595367, Elapsed time:  50.0 seconds\n",
            "Epoch  14 - sparse_categorical_accuracy:  0.8582733235934945 - loss:  0.35964866849773325 - test sparse_categorical_accuracy:  0.856057511157966 - test loss:  0.3649508112846681, Elapsed time:  49.0 seconds\n",
            "Epoch  15 - sparse_categorical_accuracy:  0.8592323546738897 - loss:  0.358397275613722 - test sparse_categorical_accuracy:  0.8567850105495082 - test loss:  0.3629114919162573, Elapsed time:  49.0 seconds\n",
            "Epoch  16 - sparse_categorical_accuracy:  0.859337541342984 - loss:  0.356625928090481 - test sparse_categorical_accuracy:  0.8568864138150014 - test loss:  0.3607382972799762, Elapsed time:  49.0 seconds\n",
            "Epoch  17 - sparse_categorical_accuracy:  0.8616072483619359 - loss:  0.35456945511488336 - test sparse_categorical_accuracy:  0.8576776379320512 - test loss:  0.35906534369197013, Elapsed time:  49.0 seconds\n",
            "Epoch  18 - sparse_categorical_accuracy:  0.8615036655871763 - loss:  0.3530300308813976 - test sparse_categorical_accuracy:  0.8586331867600266 - test loss:  0.35751104212356094, Elapsed time:  49.0 seconds\n",
            "Epoch  19 - sparse_categorical_accuracy:  0.8635230354614913 - loss:  0.3506083293658615 - test sparse_categorical_accuracy:  0.8594150857389757 - test loss:  0.35601685486094276, Elapsed time:  50.0 seconds\n",
            "Epoch  20 - sparse_categorical_accuracy:  0.8629380954502359 - loss:  0.34918150004356185 - test sparse_categorical_accuracy:  0.8598332142850106 - test loss:  0.3545633418818739, Elapsed time:  52.0 seconds\n",
            "Epoch  21 - sparse_categorical_accuracy:  0.8635140518399271 - loss:  0.3471036128076437 - test sparse_categorical_accuracy:  0.8603826872085746 - test loss:  0.35311039366716873, Elapsed time:  54.0 seconds\n",
            "Epoch  22 - sparse_categorical_accuracy:  0.8653683087226053 - loss:  0.34615622528439316 - test sparse_categorical_accuracy:  0.8610440750674877 - test loss:  0.35179986760884974, Elapsed time:  55.0 seconds\n",
            "Epoch  23 - sparse_categorical_accuracy:  0.8650956281491669 - loss:  0.345948599498508 - test sparse_categorical_accuracy:  0.8613449484615159 - test loss:  0.3506790575848114, Elapsed time:  54.0 seconds\n",
            "Epoch  24 - sparse_categorical_accuracy:  0.8661506590443263 - loss:  0.3436350121572295 - test sparse_categorical_accuracy:  0.8620079579991639 - test loss:  0.34968014537801595, Elapsed time:  54.0 seconds\n",
            "Epoch  25 - sparse_categorical_accuracy:  0.8664239919888823 - loss:  0.342277601455293 - test sparse_categorical_accuracy:  0.8621009288825006 - test loss:  0.3486454775335862, Elapsed time:  54.0 seconds\n",
            "Elapsed time:  22.0 minutes, 39.0 seconds\n"
          ],
          "name": "stdout"
        }
      ]
    },
    {
      "cell_type": "code",
      "metadata": {
        "id": "nmI6YxxJ53ei",
        "colab_type": "code",
        "outputId": "5af67799-ef03-482a-d290-12838072e9c9",
        "colab": {
          "base_uri": "https://localhost:8080/",
          "height": 684
        }
      },
      "source": [
        "import matplotlib as mpl\n",
        "import matplotlib.pyplot as plt\n",
        "import numpy as np\n",
        "\n",
        "print(model1.metrics_names)\n",
        "plt.style.use('fivethirtyeight')\n",
        "\n",
        "# Train accuracy\n",
        "print(history[0].history.keys())\n",
        "\n",
        "plt.title('Accuracy vs. Epochs')\n",
        "plt.xlabel('Epochs')\n",
        "plt.ylabel('accuracy')\n",
        "\n",
        "\n",
        "plt.axis([-1, len(acc_log), 0.6, 1])\n",
        "plt.plot(range(len(acc_log)), acc_log, color='olive', linewidth=2, label=\"Training\")\n",
        "plt.plot(range(len(acc_test)), acc_test, color='purple', linewidth=2, label=\"Test\")\n",
        "plt.legend()\n",
        "plt.show()\n",
        "\n",
        "print()\n",
        "\n",
        "# Train loss\n",
        "plt.title('Loss vs. Epochs')\n",
        "plt.xlabel('Epochs')\n",
        "plt.ylabel('loss')\n",
        "\n",
        "plt.axis([-1, len(loss_log), 0, 1.75])\n",
        "plt.plot(range(len(loss_log)), loss_log, color='olive', linewidth=2, label=\"Training\")\n",
        "plt.plot(range(len(loss_test)), loss_test, color='purple', linewidth=2, label=\"Test\")\n",
        "plt.legend()\n",
        "plt.show()"
      ],
      "execution_count": 0,
      "outputs": [
        {
          "output_type": "stream",
          "text": [
            "['loss', 'sparse_categorical_accuracy']\n",
            "dict_keys(['loss', 'sparse_categorical_accuracy'])\n"
          ],
          "name": "stdout"
        },
        {
          "output_type": "display_data",
          "data": {
            "image/png": "[encoded data removed]",
            "text/plain": [
              "<Figure size 432x288 with 1 Axes>"
            ]
          },
          "metadata": {
            "tags": []
          }
        },
        {
          "output_type": "stream",
          "text": [
            "\n"
          ],
          "name": "stdout"
        },
        {
          "output_type": "display_data",
          "data": {
            "image/png": "[encoded data removed]",
            "text/plain": [
              "<Figure size 432x288 with 1 Axes>"
            ]
          },
          "metadata": {
            "tags": []
          }
        }
      ]
    },
    {
      "cell_type": "code",
      "metadata": {
        "id": "TFIZd58Dc9SI",
        "colab_type": "code",
        "colab": {}
      },
      "source": [
        "# ************************************************************\n",
        "# *******************  TEST MODEL  ***************************\n",
        "# ************************************************************\n",
        "\n",
        "import numpy as np\n",
        "import nltk\n",
        "import tensorflow as tf\n",
        "from tensorflow.python.keras.models import load_model\n",
        "from tensorflow.python.keras.models import Sequential\n",
        "from tensorflow.python.keras.layers import Dense, CuDNNLSTM, InputLayer, Bidirectional, TimeDistributed, Embedding, Activation\n",
        "\n",
        "# Load models\n",
        "model = load_model('PM_ESCIM19_DB2b_N1.h5')\n",
        "model.compile(loss='sparse_categorical_crossentropy', optimizer=SGDNesterov, metrics=['sparse_categorical_accuracy'])\n",
        "\n",
        "# Load dictionaries\n",
        "word_index = np.load('word_index_db2b.npy').item()\n",
        "sp_index = np.load('sp_index_db2b.npy').item()\n"
      ],
      "execution_count": 0,
      "outputs": []
    },
    {
      "cell_type": "code",
      "metadata": {
        "id": "x5rvLGlTkfeo",
        "colab_type": "code",
        "outputId": "699504b8-abee-4686-b265-5266a3dfd540",
        "colab": {
          "base_uri": "https://localhost:8080/",
          "height": 34
        }
      },
      "source": [
        "sentence = \"finish your dinner\".split()\n",
        "\n",
        "s_int = []\n",
        "sentence_X = []\n",
        "\n",
        "for word in sentence:\n",
        "    try:\n",
        "        s_int.append(word_index[word.lower()])\n",
        "    except KeyError:\n",
        "        s_int.append(word_index['-PAD-'.lower()])\n",
        "sentence_X = s_int\n",
        "\n",
        "print(sentence_X)"
      ],
      "execution_count": 0,
      "outputs": [
        {
          "output_type": "stream",
          "text": [
            "[1493, 39, 2431]\n"
          ],
          "name": "stdout"
        }
      ]
    },
    {
      "cell_type": "code",
      "metadata": {
        "id": "UDagpKDkc9SL",
        "colab_type": "code",
        "outputId": "45498c61-2616-4ee4-f3dc-64465be9b16d",
        "colab": {
          "base_uri": "https://localhost:8080/",
          "height": 51
        }
      },
      "source": [
        "sentence_X = np.array(sentence_X)\n",
        "\n",
        "predictions = model1.predict(sentence_X.reshape(1, len(sentence_X), 1))\n",
        "\n",
        "def logits_to_tokens(sequences, index):\n",
        "    token_sequences = []\n",
        "    for categorical_sequence in sequences:\n",
        "        token_sequence = []\n",
        "        for categorical in categorical_sequence:\n",
        "            token_sequence.append(index[np.argmax(categorical)])\n",
        " \n",
        "        token_sequences.append(token_sequence)\n",
        " \n",
        "    return token_sequences\n",
        "\n",
        "magic1 = logits_to_tokens(predictions, {i: t for t, i in pos_index.items()})\n",
        "\n",
        "magic1[0] = [magic1[0][i].upper() for i in range(len(magic1[0]))]\n",
        "\n",
        "print(sentence)\n",
        "print(magic1[0])"
      ],
      "execution_count": 0,
      "outputs": [
        {
          "output_type": "stream",
          "text": [
            "['finish', 'your', 'dinner']\n",
            "['VB', 'PRP$', 'NN']\n"
          ],
          "name": "stdout"
        }
      ]
    },
    {
      "cell_type": "code",
      "metadata": {
        "id": "Y7613hbSlBaT",
        "colab_type": "code",
        "outputId": "fb369b73-4a8f-4ced-ba37-e0ff68747bb9",
        "colab": {
          "base_uri": "https://localhost:8080/",
          "height": 34
        }
      },
      "source": [
        "sentence_pos = magic1[0]\n",
        "\n",
        "s_int = []\n",
        "sentence_X = []\n",
        "\n",
        "for word in sentence_pos:\n",
        "    try:\n",
        "        s_int.append(pos_index[word.lower()])\n",
        "    except KeyError:\n",
        "        s_int.append(pos_index['-PAD-'.lower()])\n",
        "sentence_X = s_int\n",
        "\n",
        "print(sentence_X)"
      ],
      "execution_count": 0,
      "outputs": [
        {
          "output_type": "stream",
          "text": [
            "[9, 18, 1]\n"
          ],
          "name": "stdout"
        }
      ]
    },
    {
      "cell_type": "code",
      "metadata": {
        "id": "RGDpQV8plNAR",
        "colab_type": "code",
        "outputId": "ccf2ba89-302b-466b-c560-961e2ff11e45",
        "colab": {
          "base_uri": "https://localhost:8080/",
          "height": 51
        }
      },
      "source": [
        "sentence_X = np.array(sentence_X)\n",
        "\n",
        "predictions = model2.predict(sentence_X.reshape(1, len(sentence_X), 1))\n",
        "\n",
        "def logits_to_tokens(sequences, index):\n",
        "    token_sequences = []\n",
        "    for categorical_sequence in sequences:\n",
        "        token_sequence = []\n",
        "        for categorical in categorical_sequence:\n",
        "            token_sequence.append(index[np.argmax(categorical)])\n",
        " \n",
        "        token_sequences.append(token_sequence)\n",
        " \n",
        "    return token_sequences\n",
        "\n",
        "magic2 = logits_to_tokens(predictions, {i: t for t, i in sp_index.items()})\n",
        "\n",
        "magic2[0] = [magic2[0][i].upper() for i in range(len(magic2[0]))]\n",
        "\n",
        "print(sentence)\n",
        "print(magic2[0])\n"
      ],
      "execution_count": 0,
      "outputs": [
        {
          "output_type": "stream",
          "text": [
            "['finish', 'your', 'dinner']\n",
            "['VP', 'VP', 'VP']\n"
          ],
          "name": "stdout"
        }
      ]
    },
    {
      "cell_type": "code",
      "metadata": {
        "id": "HWdJ7F039eVy",
        "colab_type": "code",
        "outputId": "1df252fc-79d9-4106-9db9-6fcc12794262",
        "colab": {
          "base_uri": "https://localhost:8080/",
          "height": 85
        }
      },
      "source": [
        "for i, word in enumerate(sentence):\n",
        "  print(word, \" - \", end='')\n",
        "  print(magic1[0][i], \" - \", end='')\n",
        "  print(magic2[0][i])"
      ],
      "execution_count": 0,
      "outputs": [
        {
          "output_type": "stream",
          "text": [
            "pirates  - NNS  - NP\n",
            "of  - IN  - NP\n",
            "the  - DT  - NP\n",
            "caribbean  - NNP  - NP\n"
          ],
          "name": "stdout"
        }
      ]
    },
    {
      "cell_type": "code",
      "metadata": {
        "id": "kTCEq2C5EB7a",
        "colab_type": "code",
        "colab": {}
      },
      "source": [
        ""
      ],
      "execution_count": 0,
      "outputs": []
    }
  ]
}