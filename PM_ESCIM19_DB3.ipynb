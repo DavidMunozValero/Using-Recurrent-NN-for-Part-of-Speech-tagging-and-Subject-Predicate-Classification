{
  "nbformat": 4,
  "nbformat_minor": 0,
  "metadata": {
    "kernelspec": {
      "name": "python3",
      "display_name": "Python 3"
    },
    "language_info": {
      "codemirror_mode": {
        "name": "ipython",
        "version": 3
      },
      "file_extension": ".py",
      "mimetype": "text/x-python",
      "name": "python",
      "nbconvert_exporter": "python",
      "pygments_lexer": "ipython3",
      "version": "3.6.7"
    },
    "colab": {
      "name": "PM_ESCIM19_DB3.ipynb",
      "provenance": [],
      "collapsed_sections": [],
      "include_colab_link": true
    },
    "accelerator": "GPU"
  },
  "cells": [
    {
      "cell_type": "markdown",
      "metadata": {
        "id": "view-in-github",
        "colab_type": "text"
      },
      "source": [
        "<a href=\"https://colab.research.google.com/github/TraktylCo/Using-Recurrent-NN/blob/master/PM_ESCIM19_DB3.ipynb\" target=\"_parent\"><img src=\"https://colab.research.google.com/assets/colab-badge.svg\" alt=\"Open In Colab\"/></a>"
      ]
    },
    {
      "cell_type": "markdown",
      "metadata": {
        "colab_type": "text",
        "id": "Tujht0uHfX7V"
      },
      "source": [
        "***\n",
        "Nombre de modelo: PM_ESCIM19_DB3 \\\\\n",
        "Fecha: 20 Oct. 2019 \\\\\n",
        "***\n",
        "\n",
        "Modelo con dos redes neuronales para detección de tipos de palabra y suejeto/predicado\n",
        "\n",
        "Principales cambios con respecto al modelo original:\n",
        "- Optimizador RMSprop\n",
        "- Reemplazo CuDNNLSTM por CuDNNGRU: Utilizamos celdas GRU en lugar de LSTM, con lo que se pretende obtener resultados similares con un menor tiempo de entrenamiento. \n",
        "- Se ha añadido el guardado de los diccionarios de palabras y etiquetas, al igual que de los grupos de entrenamiento y test.\n",
        "- El entrenamiento de las redes ahora se base en \"online/incremental learning\" con lo cual utilizamos sequencias de tamaño variable. (Batch size = 1)\n",
        "\n",
        "***\n",
        "\n",
        "Se utilizan dos redes neuronales\n",
        "\n",
        "La primera se entrena para identificar tipos de palabras en frases\n",
        "- Datos de entrada: Las palabras de la frase // Salida: Etiquetas de cada palabra (verbo, determinante, etc.)\n",
        "\n",
        "La segunda red se entrena para identificar las frases que forman parte del sujeto y del predicado, dados los tipos de palabras de la frase \n",
        "- Datos entrada: Etiquetas de las palabras // Salida: Etiquetas de sujeto y predicado para cada palabra"
      ]
    },
    {
      "cell_type": "code",
      "metadata": {
        "id": "t4AAp3gldZAf",
        "colab_type": "code",
        "outputId": "2dadf73e-1858-4461-abc7-472aac57dea1",
        "colab": {
          "base_uri": "https://localhost:8080/",
          "height": 34
        }
      },
      "source": [
        "# Mount GDrive Data\n",
        "\n",
        "from google.colab import drive\n",
        "drive.mount('/content/gdrive')"
      ],
      "execution_count": 0,
      "outputs": [
        {
          "output_type": "stream",
          "text": [
            "Drive already mounted at /content/gdrive; to attempt to forcibly remount, call drive.mount(\"/content/gdrive\", force_remount=True).\n"
          ],
          "name": "stdout"
        }
      ]
    },
    {
      "cell_type": "code",
      "metadata": {
        "id": "qOdeU0r3c9SA",
        "colab_type": "code",
        "outputId": "1b94d899-135f-44ec-e600-05d6a912e47b",
        "colab": {
          "base_uri": "https://localhost:8080/",
          "height": 289
        }
      },
      "source": [
        "# Read dataset & build data variables\n",
        "\n",
        "import time\n",
        "import nltk\n",
        "from nltk.corpus import BracketParseCorpusReader\n",
        "\n",
        "# Time (Code snippet from StackOverflow user: Mr. B)\n",
        "\n",
        "intervals = (\n",
        "    ('weeks', 604800),  # 60 * 60 * 24 * 7\n",
        "    ('days', 86400),    # 60 * 60 * 24\n",
        "    ('hours', 3600),    # 60 * 60\n",
        "    ('minutes', 60),\n",
        "    ('seconds', 1),\n",
        "    )\n",
        "\n",
        "def display_time(seconds, granularity=2):\n",
        "    result = []\n",
        "\n",
        "    for name, count in intervals:\n",
        "        value = seconds // count\n",
        "        if value:\n",
        "            seconds -= value * count\n",
        "            if value == 1:\n",
        "                name = name.rstrip('s')\n",
        "            result.append(\"{} {}\".format(value, name))\n",
        "    return ', '.join(result[:granularity])\n",
        "\n",
        "# Import dataset from drive directory\n",
        "corpus_root = r\"/content/gdrive/My Drive/datasets/PennTreeBank/\"\n",
        "file_pattern = r'.*\\.mrg'\n",
        "ptb = BracketParseCorpusReader(corpus_root, file_pattern)\n",
        "\n",
        "# Import parsed sentences from the corpus\n",
        "sentences = ptb.parsed_sents()\n",
        "\n",
        "print(\"Total sentences: \", len(sentences))\n",
        "\n",
        "# Global variables\n",
        "input_X = [[] for x in range(len(sentences))] # Save sentences words\n",
        "input_Y = [[] for x in range(len(sentences))] # Save sentences tags\n",
        "tag = \"\"\n",
        "buff = \"\"\n",
        "count = 0\n",
        "\n",
        "# Recursive iteration through NLTK Trees\n",
        "def iterate_tree(sent):\n",
        "    \n",
        "    global tag\n",
        "  \n",
        "    if not tag.endswith(\"_\"):\n",
        "        tag += \"_\"\n",
        "    \n",
        "    buff = str(sent.label())\n",
        "    buff = buff.split(\"-\")[0]\n",
        "\n",
        "    tag += buff + \"_\"\n",
        "    buff = \"\"\n",
        "    \n",
        "    for tok in sent:\n",
        "        if type(tok) is nltk.tree.Tree:\n",
        "            iterate_tree(tok)\n",
        "        elif type(tok) is str:\n",
        "            input_X[count].append(tok)\n",
        "            input_Y[count].append(tag.split('_')[1:-1])\n",
        "        \n",
        "        tag = tag.split('_')\n",
        "        tag = tag[:-1]\n",
        "        tag = '_'.join(tag)\n",
        "\n",
        "for sentence in sentences:\n",
        "    iterate_tree(sentence)\n",
        "    tag = \"\"\n",
        "    count += 1\n",
        "\n",
        "# Delete sentences with less than two words \n",
        "for i in reversed(range(len(input_X))):\n",
        "    if (len(input_X[i]) < 2) or (len(input_Y[i]) < 2):\n",
        "        input_X.pop(i)\n",
        "        input_Y.pop(i)\n",
        "\n",
        "print(len(input_X))\n",
        "print(len(input_Y))\n",
        "\n",
        "print(\"Finished!\")"
      ],
      "execution_count": 0,
      "outputs": [
        {
          "output_type": "stream",
          "text": [
            "Bad tree detected; trying to recover...\n",
            "  Recovered by returning a flat parse.\n",
            "Bad tree detected; trying to recover...\n",
            "  Recovered by returning a flat parse.\n",
            "Bad tree detected; trying to recover...\n",
            "  Recovered by returning a flat parse.\n"
          ],
          "name": "stderr"
        },
        {
          "output_type": "stream",
          "text": [
            "Total sentences:  6139\n"
          ],
          "name": "stdout"
        },
        {
          "output_type": "stream",
          "text": [
            "Bad tree detected; trying to recover...\n",
            "  Recovered by returning a flat parse.\n",
            "Bad tree detected; trying to recover...\n",
            "  Recovered by returning a flat parse.\n",
            "Bad tree detected; trying to recover...\n",
            "  Recovered by returning a flat parse.\n"
          ],
          "name": "stderr"
        },
        {
          "output_type": "stream",
          "text": [
            "5637\n",
            "5637\n",
            "Finished!\n"
          ],
          "name": "stdout"
        }
      ]
    },
    {
      "cell_type": "code",
      "metadata": {
        "id": "DSjSMvPfuhL8",
        "colab_type": "code",
        "colab": {}
      },
      "source": [
        "# Clean tags splitted by \"=\"\n",
        "\n",
        "for i, sentence in enumerate(input_Y):\n",
        "    for j, wtag in enumerate(sentence):\n",
        "        for k, tag in enumerate(wtag):\n",
        "          if(tag.find('=') != -1):\n",
        "            tag = tag.split('_')\n",
        "            tag = tag[:-1]\n",
        "            input_Y[i][j][k]=str(tag)"
      ],
      "execution_count": 0,
      "outputs": []
    },
    {
      "cell_type": "code",
      "metadata": {
        "id": "UhQDMJqi7sCk",
        "colab_type": "code",
        "colab": {}
      },
      "source": [
        "# Delete empty elements\n",
        "\n",
        "for i in reversed(range(len(input_Y))):\n",
        "  for j in reversed(range(len(input_Y[i]))):\n",
        "    for k in reversed(range(len(input_Y[i][j]))):\n",
        "      if not input_Y[i][j][k]:\n",
        "        input_Y[i][j].pop(k)"
      ],
      "execution_count": 0,
      "outputs": []
    },
    {
      "cell_type": "code",
      "metadata": {
        "id": "tSokLM_0oOMP",
        "colab_type": "code",
        "colab": {}
      },
      "source": [
        "# Read dataset & build data variables\n",
        "\n",
        "splitters = [\",\", \".\", \":\"]\n",
        "\n",
        "sentences = [[]]\n",
        "tags = [[]]\n",
        "\n",
        "count = 0\n",
        "for i, sentence in enumerate(input_X):\n",
        "  for j, word in enumerate(sentence):\n",
        "    if word in splitters:\n",
        "      sentences.append(list())\n",
        "      tags.append(list())\n",
        "      count += 1\n",
        "    else:\n",
        "      sentences[count].append(word)\n",
        "      tags[count].append(input_Y[i][j])"
      ],
      "execution_count": 0,
      "outputs": []
    },
    {
      "cell_type": "code",
      "metadata": {
        "id": "vI0okMfhaoWl",
        "colab_type": "code",
        "colab": {}
      },
      "source": [
        "  # Delete words that start with * or - \n",
        "\n",
        "for i in reversed(range(len(sentences))):\n",
        "  for j in reversed(range(len(sentences[i]))):\n",
        "      if sentences[i][j][0] == \"*\" or sentences[i][j][0] == \"-\" or sentences[i][j][0] == \"<\":\n",
        "        sentences[i].pop(j)\n",
        "        tags[i].pop(j)"
      ],
      "execution_count": 0,
      "outputs": []
    },
    {
      "cell_type": "code",
      "metadata": {
        "id": "1KY7hgR-b9kw",
        "colab_type": "code",
        "colab": {}
      },
      "source": [
        "# Delete elements with only one tag\n",
        "\n",
        "for i in reversed(range(len(tags))):\n",
        "  for j in reversed(range(len(tags[i]))):\n",
        "      if len(tags[i][j]) < 2:\n",
        "        tags[i].pop(j)\n",
        "        tags[i].pop(j)"
      ],
      "execution_count": 0,
      "outputs": []
    },
    {
      "cell_type": "code",
      "metadata": {
        "id": "pIbzNK4D24aK",
        "colab_type": "code",
        "colab": {}
      },
      "source": [
        "# Make sure every sentence starts with 'S' tag\n",
        "\n",
        "for i, sentence in enumerate(tags):\n",
        "    for j, wtag in enumerate(sentence):\n",
        "      if tags[i][j][0] != 'S':\n",
        "        tags[i][j].insert(0,'S')"
      ],
      "execution_count": 0,
      "outputs": []
    },
    {
      "cell_type": "code",
      "metadata": {
        "id": "HiUmNcyB8VLR",
        "colab_type": "code",
        "outputId": "4e761f3e-d8d5-48ea-fd89-081f832e0c2a",
        "colab": {
          "base_uri": "https://localhost:8080/",
          "height": 51
        }
      },
      "source": [
        "for i in reversed(range(len(sentences))):\n",
        "  if len(sentences[i]) < 2:\n",
        "      sentences.pop(i)\n",
        "      tags.pop(i)\n",
        "\n",
        "print(len(sentences))\n",
        "print(len(tags))"
      ],
      "execution_count": 0,
      "outputs": [
        {
          "output_type": "stream",
          "text": [
            "8381\n",
            "8381\n"
          ],
          "name": "stdout"
        }
      ]
    },
    {
      "cell_type": "code",
      "metadata": {
        "id": "gHXyg_1-2WzQ",
        "colab_type": "code",
        "colab": {}
      },
      "source": [
        "# 1st NN training data (POS tags)\n",
        "import copy\n",
        "\n",
        "training_1stNN = copy.deepcopy(tags)\n",
        "\n",
        "for i, sentence in enumerate(training_1stNN):\n",
        "    for j, wtag in enumerate(sentence):\n",
        "      training_1stNN[i][j] = training_1stNN[i][j][-1]"
      ],
      "execution_count": 0,
      "outputs": []
    },
    {
      "cell_type": "code",
      "metadata": {
        "id": "P743XEu2tbBN",
        "colab_type": "code",
        "outputId": "b52fab13-72d4-4b7c-fb67-91a2420577c1",
        "colab": {
          "base_uri": "https://localhost:8080/",
          "height": 51
        }
      },
      "source": [
        "# 2nd NN training data (NP & VP)\n",
        "training_2ndNN = [[] for _ in range(len(tags))]\n",
        "\n",
        "sentences_2nd = copy.deepcopy(training_1stNN)\n",
        "\n",
        "for i, sentence in enumerate(tags):\n",
        "    for j, word in enumerate(sentence):\n",
        "      for k, tag in enumerate(word):\n",
        "        if tag == \"NP\" or tag == \"VP\":\n",
        "          training_2ndNN[i].append(tag)\n",
        "          break\n",
        "      \n",
        "      try:\n",
        "        training_2ndNN[i][j]\n",
        "      except:\n",
        "        training_2ndNN[i].append(\"-PAD-\")\n",
        "\n",
        "for i in reversed(range(len(training_2ndNN))):\n",
        "  for j in reversed(range(len(training_2ndNN[i]))):\n",
        "    if training_2ndNN[i][j] == \"-PAD-\":\n",
        "      training_2ndNN[i].pop(j)\n",
        "      sentences_2nd[i].pop(j)\n",
        "\n",
        "for i in reversed(range(len(training_2ndNN))):\n",
        "  if len(training_2ndNN[i]) < 2:\n",
        "      sentences_2nd.pop(i)\n",
        "      training_2ndNN.pop(i)\n",
        "\n",
        "print(len(sentences_2nd))\n",
        "print(len(training_2ndNN))"
      ],
      "execution_count": 0,
      "outputs": [
        {
          "output_type": "stream",
          "text": [
            "8109\n",
            "8109\n"
          ],
          "name": "stdout"
        }
      ]
    },
    {
      "cell_type": "code",
      "metadata": {
        "id": "v27i3GYIAMMA",
        "colab_type": "code",
        "outputId": "f57e6cb8-16b6-40da-f0f4-ad1b9db9f8dc",
        "colab": {
          "base_uri": "https://localhost:8080/",
          "height": 51
        }
      },
      "source": [
        "print(len(sentences))\n",
        "print(len(training_1stNN))"
      ],
      "execution_count": 0,
      "outputs": [
        {
          "output_type": "stream",
          "text": [
            "8381\n",
            "8381\n"
          ],
          "name": "stdout"
        }
      ]
    },
    {
      "cell_type": "code",
      "metadata": {
        "id": "3AbJRTL8dKWz",
        "colab_type": "code",
        "outputId": "094e5145-abf9-4fcd-82a8-22832cea9d98",
        "colab": {
          "base_uri": "https://localhost:8080/",
          "height": 34
        }
      },
      "source": [
        "# Create words and tags dictionaries using Keras Tokenizer\n",
        "\n",
        "import tensorflow as tf\n",
        "from tensorflow.python.keras.preprocessing.text import Tokenizer\n",
        "import numpy as np\n",
        "\n",
        "w = Tokenizer()\n",
        "p = Tokenizer()\n",
        "t = Tokenizer()\n",
        "\n",
        "# Words dictionary\n",
        "w.fit_on_texts(sentences)\n",
        "w.word_index['-PAD-'.lower()] = 0\n",
        "\n",
        "word_index = w.word_index\n",
        "np.save('word_index_db3.npy', word_index)\n",
        "\n",
        "# 1st NN training\n",
        "p.fit_on_texts(training_1stNN)\n",
        "p.word_index['-PAD-'.lower()] = 0\n",
        "\n",
        "pos_index = p.word_index\n",
        "np.save('pos_index_db3.npy', pos_index)\n",
        "\n",
        "# 2nd NN training\n",
        "t.fit_on_texts(training_2ndNN)\n",
        "t.word_index['-PAD-'.lower()] = 0\n",
        "\n",
        "sp_index = t.word_index\n",
        "np.save('sp_index_db3.npy', sp_index)\n",
        "\n",
        "print(\"Finished!\")"
      ],
      "execution_count": 0,
      "outputs": [
        {
          "output_type": "stream",
          "text": [
            "Finished!\n"
          ],
          "name": "stdout"
        }
      ]
    },
    {
      "cell_type": "code",
      "metadata": {
        "id": "DaHAHtAatJBg",
        "colab_type": "code",
        "colab": {}
      },
      "source": [
        "sub = 0\n",
        "pre = 0\n",
        "pad = 0\n",
        "count = 0\n",
        "\n",
        "for sentence in training_2ndNN:\n",
        "  for word in sentence:\n",
        "    count += 1\n",
        "    if word == \"NP\":\n",
        "      sub += 1\n",
        "    elif word == \"VP\":\n",
        "      pre += 1\n",
        "    else:\n",
        "      pad += 1"
      ],
      "execution_count": 0,
      "outputs": []
    },
    {
      "cell_type": "code",
      "metadata": {
        "id": "OU93BZsEtcJO",
        "colab_type": "code",
        "outputId": "202a03b6-927e-4b83-ac6c-5e6cef9ef910",
        "colab": {
          "base_uri": "https://localhost:8080/",
          "height": 102
        }
      },
      "source": [
        "print(\"Subject tags: \", sub)\n",
        "print(\"Predicate tags: \", pre)\n",
        "print(\"Pad tags: \", pad)\n",
        "print(\"Total: \", count)\n",
        "print(\"Sum: \", sub+pre+pad)"
      ],
      "execution_count": 0,
      "outputs": [
        {
          "output_type": "stream",
          "text": [
            "Subject tags:  18175\n",
            "Predicate tags:  66980\n",
            "Pad tags:  6881\n",
            "Total:  92036\n",
            "Sum:  92036\n"
          ],
          "name": "stdout"
        }
      ]
    },
    {
      "cell_type": "code",
      "metadata": {
        "scrolled": true,
        "id": "0bS1pY0Ec9SD",
        "colab_type": "code",
        "colab": {}
      },
      "source": [
        "# ************************************************************\n",
        "# ****************  1st Neural Network ***********************\n",
        "# ************************************************************\n",
        "\n",
        "from sklearn.model_selection import train_test_split\n",
        "\n",
        "np.save('sentences_db3.npy', sentences)\n",
        "np.save('trainint_1stNN_db3.npy', training_1stNN)\n",
        "\n",
        "train_sentences, test_sentences, train_pos, test_pos = train_test_split(sentences, training_1stNN, shuffle=True, test_size=0.3, random_state=5)\n",
        "\n",
        "np.save('train_sentences_db3.npy', train_sentences)\n",
        "np.save('test_sentences_db3.npy', test_sentences)\n",
        "np.save('train_pos_db3.npy', train_pos)\n",
        "np.save('test_pos_db3.npy', test_pos)\n",
        "\n",
        "train_enc_sent, test_enc_sent = [], []\n",
        "train_enc_pos, test_enc_pos = [], []\n",
        "\n",
        "for s in train_sentences:\n",
        "    train_enc_sent.append([word_index[word.lower()] for word in s])\n",
        "\n",
        "for s in test_sentences:\n",
        "    test_enc_sent.append([word_index[word.lower()] for word in s])     \n",
        "                \n",
        "for s in train_pos:\n",
        "    train_enc_pos.append([pos_index[word.lower()] for word in s])\n",
        "\n",
        "for s in test_pos:\n",
        "    test_enc_pos.append([pos_index[word.lower()] for word in s])"
      ],
      "execution_count": 0,
      "outputs": []
    },
    {
      "cell_type": "code",
      "metadata": {
        "id": "vR-wQ_drmtLS",
        "colab_type": "code",
        "outputId": "e20c46ed-df2f-479b-a5f5-c28580f4d943",
        "colab": {
          "base_uri": "https://localhost:8080/",
          "height": 34
        }
      },
      "source": [
        "# Import pre-trained GloVe Word-Vectors (To use in Keras Embedding layer)\n",
        "\n",
        "import os\n",
        "import numpy as np\n",
        "\n",
        "embeddings_index = {}\n",
        "f = open(os.path.join('/content/gdrive/My Drive/datasets/glove.6B.100d.txt'))\n",
        "\n",
        "for line in f:\n",
        "    values = line.split()\n",
        "    word = values[0]\n",
        "    coefs = np.asarray(values[1:], dtype='float32')\n",
        "    embeddings_index[word] = coefs\n",
        "f.close()\n",
        "\n",
        "print('Found %s word vectors.' % len(embeddings_index))\n",
        "\n",
        "EMBEDDING_DIM = 100\n",
        "\n",
        "embedding_matrix = np.zeros((len(word_index) + 1, EMBEDDING_DIM))\n",
        "\n",
        "for word, i in word_index.items():\n",
        "    embedding_vector = embeddings_index.get(word)\n",
        "    if embedding_vector is not None:\n",
        "        # words not found in embedding index will be all-zeros.\n",
        "        embedding_matrix[i] = embedding_vector"
      ],
      "execution_count": 0,
      "outputs": [
        {
          "output_type": "stream",
          "text": [
            "Found 400000 word vectors.\n"
          ],
          "name": "stdout"
        }
      ]
    },
    {
      "cell_type": "code",
      "metadata": {
        "id": "vxMe66wfm01S",
        "colab_type": "code",
        "outputId": "6b2c3639-84a8-4fb9-c08b-e3543f3f0c02",
        "colab": {
          "base_uri": "https://localhost:8080/",
          "height": 292
        }
      },
      "source": [
        "# Neural Network Architecture\n",
        "\n",
        "from tensorflow.python.keras.models import Sequential\n",
        "from tensorflow.python.keras.layers import *\n",
        "from tensorflow.python.keras import backend as K\n",
        "\n",
        "model1 = Sequential()\n",
        "#model.add(InputLayer(input_shape=(None, 1))) # Bug when load_model() is called in Keras 2.2.X \n",
        "model1.add(Lambda(lambda model1: K.batch_flatten(model1), input_shape=(None, 1)))\n",
        "model1.add(Embedding(len(word_index) + 1, EMBEDDING_DIM, weights=[embedding_matrix], trainable=False))\n",
        "model1.add(Bidirectional(CuDNNGRU(128, return_sequences=True)))\n",
        "model1.add(Dropout(0.15))\n",
        "model1.add(TimeDistributed(Dense(len(pos_index))))\n",
        "model1.add(Activation(\"softmax\"))"
      ],
      "execution_count": 0,
      "outputs": [
        {
          "output_type": "stream",
          "text": [
            "WARNING:tensorflow:From /usr/local/lib/python3.6/dist-packages/tensorflow_core/python/keras/initializers.py:119: calling RandomUniform.__init__ (from tensorflow.python.ops.init_ops) with dtype is deprecated and will be removed in a future version.\n",
            "Instructions for updating:\n",
            "Call initializer instance with the dtype argument instead of passing it to the constructor\n",
            "WARNING:tensorflow:From /usr/local/lib/python3.6/dist-packages/tensorflow_core/python/ops/resource_variable_ops.py:1630: calling BaseResourceVariable.__init__ (from tensorflow.python.ops.resource_variable_ops) with constraint is deprecated and will be removed in a future version.\n",
            "Instructions for updating:\n",
            "If using Keras pass *_constraint arguments to layers.\n",
            "WARNING:tensorflow:From /usr/local/lib/python3.6/dist-packages/tensorflow_core/python/ops/init_ops.py:97: calling GlorotUniform.__init__ (from tensorflow.python.ops.init_ops) with dtype is deprecated and will be removed in a future version.\n",
            "Instructions for updating:\n",
            "Call initializer instance with the dtype argument instead of passing it to the constructor\n",
            "WARNING:tensorflow:From /usr/local/lib/python3.6/dist-packages/tensorflow_core/python/ops/init_ops.py:97: calling Orthogonal.__init__ (from tensorflow.python.ops.init_ops) with dtype is deprecated and will be removed in a future version.\n",
            "Instructions for updating:\n",
            "Call initializer instance with the dtype argument instead of passing it to the constructor\n",
            "WARNING:tensorflow:From /usr/local/lib/python3.6/dist-packages/tensorflow_core/python/ops/init_ops.py:97: calling Zeros.__init__ (from tensorflow.python.ops.init_ops) with dtype is deprecated and will be removed in a future version.\n",
            "Instructions for updating:\n",
            "Call initializer instance with the dtype argument instead of passing it to the constructor\n"
          ],
          "name": "stdout"
        }
      ]
    },
    {
      "cell_type": "code",
      "metadata": {
        "id": "PJO7keFrm-R2",
        "colab_type": "code",
        "outputId": "e8266410-b1e4-426e-9651-235c51875867",
        "colab": {
          "base_uri": "https://localhost:8080/",
          "height": 391
        }
      },
      "source": [
        "# Compile model\n",
        "\n",
        "import tensorflow as tf\n",
        "from tensorflow.python.keras.optimizers import RMSprop\n",
        "\n",
        "model1.compile(loss='sparse_categorical_crossentropy',\n",
        "              optimizer=RMSprop(lr=0.0001),\n",
        "              metrics=['sparse_categorical_accuracy'])\n",
        "\n",
        "print(\"Keras version: \", tf.keras.__version__)\n",
        "print(\"Tensorflow version: \", tf.__version__)\n",
        "model1.summary()"
      ],
      "execution_count": 0,
      "outputs": [
        {
          "output_type": "stream",
          "text": [
            "Keras version:  2.2.4-tf\n",
            "Tensorflow version:  1.15.0\n",
            "Model: \"sequential\"\n",
            "_________________________________________________________________\n",
            "Layer (type)                 Output Shape              Param #   \n",
            "=================================================================\n",
            "lambda (Lambda)              (None, None)              0         \n",
            "_________________________________________________________________\n",
            "embedding (Embedding)        (None, None, 100)         1023000   \n",
            "_________________________________________________________________\n",
            "bidirectional (Bidirectional (None, None, 256)         176640    \n",
            "_________________________________________________________________\n",
            "dropout (Dropout)            (None, None, 256)         0         \n",
            "_________________________________________________________________\n",
            "time_distributed (TimeDistri (None, None, 53)          13621     \n",
            "_________________________________________________________________\n",
            "activation (Activation)      (None, None, 53)          0         \n",
            "=================================================================\n",
            "Total params: 1,213,261\n",
            "Trainable params: 190,261\n",
            "Non-trainable params: 1,023,000\n",
            "_________________________________________________________________\n"
          ],
          "name": "stdout"
        }
      ]
    },
    {
      "cell_type": "code",
      "metadata": {
        "id": "eay6O9oQnGCo",
        "colab_type": "code",
        "outputId": "643ba1f9-805b-4fea-c438-f26e86849194",
        "colab": {
          "base_uri": "https://localhost:8080/",
          "height": 51
        }
      },
      "source": [
        "# Prepare training data\n",
        "\n",
        "# Convert data to numpy array\n",
        "train_enc_sent = np.array(train_enc_sent)\n",
        "train_enc_pos = np.array(train_enc_pos)\n",
        "\n",
        "for i, v in enumerate(train_enc_sent):\n",
        "    v = np.array(v)\n",
        "    train_enc_sent[i] = v\n",
        "    \n",
        "for i, v in enumerate(train_enc_pos):\n",
        "    v = np.array(v)\n",
        "    train_enc_pos[i] = v\n",
        "\n",
        "# Show data shape (it only shows first dimension, since the others are different for each sequence)\n",
        "print(train_enc_sent.shape)\n",
        "print(train_enc_pos.shape)\n",
        "\n",
        "for i in range(len(train_enc_sent)):\n",
        "  train_enc_sent[i] = train_enc_sent[i].reshape(1, len(train_enc_sent[i]), 1)\n",
        "  train_enc_pos[i] = train_enc_pos[i].reshape(1, len(train_enc_pos[i]), 1)\n",
        "\n",
        "for i in range(len(train_enc_sent)):\n",
        "  train_enc_sent[i] = np.array(train_enc_sent[i])\n",
        "  train_enc_pos[i] = np.array(train_enc_pos[i])"
      ],
      "execution_count": 0,
      "outputs": [
        {
          "output_type": "stream",
          "text": [
            "(5866,)\n",
            "(5866,)\n"
          ],
          "name": "stdout"
        }
      ]
    },
    {
      "cell_type": "code",
      "metadata": {
        "id": "M8cIzvbvvEGM",
        "colab_type": "code",
        "outputId": "a39c2adb-dd16-4ce7-8833-9ec54c3d203d",
        "colab": {
          "base_uri": "https://localhost:8080/",
          "height": 51
        }
      },
      "source": [
        "# Prepare test data\n",
        "\n",
        "# Convert data to numpy array\n",
        "test_enc_sent = np.array(test_enc_sent)\n",
        "test_enc_pos = np.array(test_enc_pos)\n",
        "\n",
        "for i, v in enumerate(test_enc_sent):\n",
        "    v = np.array(v)\n",
        "    test_enc_sent[i] = v\n",
        "    \n",
        "for i, v in enumerate(test_enc_pos):\n",
        "    v = np.array(v)\n",
        "    test_enc_pos[i] = v\n",
        "\n",
        "# Show data shape (it only shows first dimension, since the others are different for each sequence)\n",
        "print(test_enc_sent.shape)\n",
        "print(test_enc_pos.shape)\n",
        "\n",
        "for i in range(len(test_enc_sent)):\n",
        "  test_enc_sent[i] = test_enc_sent[i].reshape(1, len(test_enc_sent[i]), 1)\n",
        "  test_enc_pos[i] = test_enc_pos[i].reshape(1, len(test_enc_pos[i]), 1)\n",
        "\n",
        "for i in range(len(test_enc_sent)):\n",
        "  test_enc_sent[i] = np.array(test_enc_sent[i])\n",
        "  test_enc_pos[i] = np.array(test_enc_pos[i])"
      ],
      "execution_count": 0,
      "outputs": [
        {
          "output_type": "stream",
          "text": [
            "(2515,)\n",
            "(2515,)\n"
          ],
          "name": "stdout"
        }
      ]
    },
    {
      "cell_type": "code",
      "metadata": {
        "id": "XTuFlrfJnOSC",
        "colab_type": "code",
        "outputId": "e83650b4-bb7e-4881-d113-f13c04a916aa",
        "colab": {
          "base_uri": "https://localhost:8080/",
          "height": 1000
        }
      },
      "source": [
        "# Fit the model\n",
        "from tensorflow.python.client import device_lib\n",
        "print(device_lib.list_local_devices())\n",
        "\n",
        "acc_log = []\n",
        "loss_log = []\n",
        "\n",
        "acc_test = []\n",
        "loss_test = []\n",
        "\n",
        "start = time.time()\n",
        "\n",
        "for epoch in range(25):\n",
        "    print(\"Epoch \", epoch+1, end='')\n",
        "    startl = time.time()\n",
        "\n",
        "    history = [model1.fit(seq, label, verbose=0) for seq, label in zip(train_enc_sent, train_enc_pos)] \n",
        "\n",
        "    scores = [model1.evaluate(seq, label, verbose=0) for seq, label in zip(test_enc_sent, test_enc_pos)]\n",
        "\n",
        "    x, y = [], []\n",
        "\n",
        "    for i in range(len(history)):\n",
        "      x.append(history[i].history['sparse_categorical_accuracy'][0])\n",
        "      y.append(history[i].history['loss'][0])\n",
        "      \n",
        "    acc = sum(x) / len(history)\n",
        "    acc_log.append(acc)\n",
        "\n",
        "    lss = sum(y) / len(history)\n",
        "    loss_log.append(lss)\n",
        "\n",
        "    print(\" - sparse_categorical_accuracy: \", acc, end='')\n",
        "    print(\" - loss: \", lss, end='')\n",
        "\n",
        "    x, y = [], []\n",
        "\n",
        "    for i in range(len(scores)):\n",
        "      x.append(scores[i][1])\n",
        "      y.append(scores[i][0])\n",
        "      \n",
        "    acct = sum(x) / len(scores)\n",
        "    acc_test.append(acct)\n",
        "\n",
        "    lsst = sum(y) / len(scores)\n",
        "    loss_test.append(lsst)\n",
        "\n",
        "    print(\" - test sparse_categorical_accuracy: \", acct, end='')\n",
        "    print(\" - test loss: \", lsst, end='')\n",
        "\n",
        "    endl = time.time()        \n",
        "    elapsed_time = endl-startl\n",
        "    print(\", Elapsed time: \", display_time(elapsed_time))\n",
        "\n",
        "end = time.time()\n",
        "elapsed_time = end-start\n",
        "print(\"Elapsed time: \", display_time(elapsed_time))\n",
        "\n",
        "# Save Model\n",
        "model1.save('PM_ESCIM19_DB3_N1.h5')\n",
        "np.save('acc_log_n1_db3.npy', acc_log)\n",
        "np.save('loss_log_n1_db3.npy', loss_log)\n",
        "np.save('acc_test_n1_db3.npy', acc_test)\n",
        "np.save('loss_test_n1_db3.npy', loss_test)"
      ],
      "execution_count": 0,
      "outputs": [
        {
          "output_type": "stream",
          "text": [
            "[name: \"/device:CPU:0\"\n",
            "device_type: \"CPU\"\n",
            "memory_limit: 268435456\n",
            "locality {\n",
            "}\n",
            "incarnation: 10167218079351557406\n",
            ", name: \"/device:XLA_CPU:0\"\n",
            "device_type: \"XLA_CPU\"\n",
            "memory_limit: 17179869184\n",
            "locality {\n",
            "}\n",
            "incarnation: 15902434084315395385\n",
            "physical_device_desc: \"device: XLA_CPU device\"\n",
            ", name: \"/device:XLA_GPU:0\"\n",
            "device_type: \"XLA_GPU\"\n",
            "memory_limit: 17179869184\n",
            "locality {\n",
            "}\n",
            "incarnation: 2029764343278960712\n",
            "physical_device_desc: \"device: XLA_GPU device\"\n",
            ", name: \"/device:GPU:0\"\n",
            "device_type: \"GPU\"\n",
            "memory_limit: 11330115994\n",
            "locality {\n",
            "  bus_id: 1\n",
            "  links {\n",
            "  }\n",
            "}\n",
            "incarnation: 3103439668989706639\n",
            "physical_device_desc: \"device: 0, name: Tesla K80, pci bus id: 0000:00:04.0, compute capability: 3.7\"\n",
            "]\n",
            "Epoch  1WARNING:tensorflow:From /usr/local/lib/python3.6/dist-packages/tensorflow_core/python/ops/math_grad.py:1424: where (from tensorflow.python.ops.array_ops) is deprecated and will be removed in a future version.\n",
            "Instructions for updating:\n",
            "Use tf.where in 2.0, which has the same broadcast rule as np.where\n",
            " - sparse_categorical_accuracy:  0.6107455599580583 - loss:  1.532950183907584 - test sparse_categorical_accuracy:  0.7745500486484815 - test loss:  0.8969414295476841, Elapsed time:  1.0 minute, 27.0 seconds\n",
            "Epoch  2 - sparse_categorical_accuracy:  0.8060689092983047 - loss:  0.7443796913893661 - test sparse_categorical_accuracy:  0.8215186893821473 - test loss:  0.6618885578071073, Elapsed time:  1.0 minute, 20.0 seconds\n",
            "Epoch  3 - sparse_categorical_accuracy:  0.839300727792417 - loss:  0.591052485656192 - test sparse_categorical_accuracy:  0.8467268245653888 - test loss:  0.5696483961900856, Elapsed time:  1.0 minute, 21.0 seconds\n",
            "Epoch  4 - sparse_categorical_accuracy:  0.8602402364429337 - loss:  0.5158355210780665 - test sparse_categorical_accuracy:  0.860649009413321 - test loss:  0.5190011463232642, Elapsed time:  1.0 minute, 19.0 seconds\n",
            "Epoch  5 - sparse_categorical_accuracy:  0.8738373585611815 - loss:  0.46726747804309915 - test sparse_categorical_accuracy:  0.8713822537044408 - test loss:  0.4856549147410026, Elapsed time:  1.0 minute, 20.0 seconds\n",
            "Epoch  6 - sparse_categorical_accuracy:  0.8841178353064263 - loss:  0.43244844081457084 - test sparse_categorical_accuracy:  0.8769667048755271 - test loss:  0.46239113381732383, Elapsed time:  1.0 minute, 20.0 seconds\n",
            "Epoch  7 - sparse_categorical_accuracy:  0.8917515750681017 - loss:  0.40602244248279434 - test sparse_categorical_accuracy:  0.8836160260984012 - test loss:  0.4436425208103441, Elapsed time:  1.0 minute, 20.0 seconds\n",
            "Epoch  8 - sparse_categorical_accuracy:  0.8983120280948264 - loss:  0.3819708364892324 - test sparse_categorical_accuracy:  0.8876277970153816 - test loss:  0.4285730125872274, Elapsed time:  1.0 minute, 20.0 seconds\n",
            "Epoch  9 - sparse_categorical_accuracy:  0.9034751552441931 - loss:  0.36370562639566634 - test sparse_categorical_accuracy:  0.8903009742083654 - test loss:  0.4182999551514484, Elapsed time:  1.0 minute, 20.0 seconds\n",
            "Epoch  10 - sparse_categorical_accuracy:  0.908569143568742 - loss:  0.3471732993830546 - test sparse_categorical_accuracy:  0.8922503091468963 - test loss:  0.4082024467989588, Elapsed time:  1.0 minute, 20.0 seconds\n",
            "Epoch  11 - sparse_categorical_accuracy:  0.911545585473873 - loss:  0.33062784537460094 - test sparse_categorical_accuracy:  0.8940276585030509 - test loss:  0.4000755169911673, Elapsed time:  1.0 minute, 20.0 seconds\n",
            "Epoch  12 - sparse_categorical_accuracy:  0.9170351836041627 - loss:  0.315392798873085 - test sparse_categorical_accuracy:  0.8960919732898177 - test loss:  0.3934550281177797, Elapsed time:  1.0 minute, 20.0 seconds\n",
            "Epoch  13 - sparse_categorical_accuracy:  0.9214592220416014 - loss:  0.3020295029421108 - test sparse_categorical_accuracy:  0.8979871954879989 - test loss:  0.3858524724293063, Elapsed time:  1.0 minute, 20.0 seconds\n",
            "Epoch  14 - sparse_categorical_accuracy:  0.9239992881482711 - loss:  0.29117968340190276 - test sparse_categorical_accuracy:  0.8992484674894549 - test loss:  0.3803469569690893, Elapsed time:  1.0 minute, 19.0 seconds\n",
            "Epoch  15 - sparse_categorical_accuracy:  0.9278582808149783 - loss:  0.27954387749940246 - test sparse_categorical_accuracy:  0.900609681513864 - test loss:  0.37643309148526327, Elapsed time:  1.0 minute, 19.0 seconds\n",
            "Epoch  16 - sparse_categorical_accuracy:  0.9305796407638172 - loss:  0.26819769596641246 - test sparse_categorical_accuracy:  0.9025219735283975 - test loss:  0.37152081287631933, Elapsed time:  1.0 minute, 20.0 seconds\n",
            "Epoch  17 - sparse_categorical_accuracy:  0.9341012054626908 - loss:  0.25823736186154966 - test sparse_categorical_accuracy:  0.9024566900659035 - test loss:  0.3693917959973644, Elapsed time:  1.0 minute, 20.0 seconds\n",
            "Epoch  18 - sparse_categorical_accuracy:  0.9369436746118339 - loss:  0.24831453778931944 - test sparse_categorical_accuracy:  0.9038138140385478 - test loss:  0.3655817431335941, Elapsed time:  1.0 minute, 20.0 seconds\n",
            "Epoch  19 - sparse_categorical_accuracy:  0.9392259415814465 - loss:  0.2403563398478144 - test sparse_categorical_accuracy:  0.9040157107662254 - test loss:  0.36398482115023445, Elapsed time:  1.0 minute, 19.0 seconds\n",
            "Epoch  20 - sparse_categorical_accuracy:  0.9427677766072884 - loss:  0.22941131315586044 - test sparse_categorical_accuracy:  0.9049231477689079 - test loss:  0.3619412099594939, Elapsed time:  1.0 minute, 20.0 seconds\n",
            "Epoch  21 - sparse_categorical_accuracy:  0.9441029589446664 - loss:  0.22281947994009413 - test sparse_categorical_accuracy:  0.905555151808807 - test loss:  0.35825486620166014, Elapsed time:  1.0 minute, 19.0 seconds\n",
            "Epoch  22 - sparse_categorical_accuracy:  0.9460985582160576 - loss:  0.21346213101411152 - test sparse_categorical_accuracy:  0.9060173286595354 - test loss:  0.3565067200790306, Elapsed time:  1.0 minute, 20.0 seconds\n",
            "Epoch  23 - sparse_categorical_accuracy:  0.9498877895242153 - loss:  0.20576745926441029 - test sparse_categorical_accuracy:  0.9070377642722064 - test loss:  0.3560444625227323, Elapsed time:  1.0 minute, 20.0 seconds\n",
            "Epoch  24 - sparse_categorical_accuracy:  0.9505890747852956 - loss:  0.19725027631319297 - test sparse_categorical_accuracy:  0.9071805388801851 - test loss:  0.35496066431046247, Elapsed time:  1.0 minute, 20.0 seconds\n",
            "Epoch  25 - sparse_categorical_accuracy:  0.9532196089457702 - loss:  0.1904938417568725 - test sparse_categorical_accuracy:  0.9086165215101678 - test loss:  0.35527549023375127, Elapsed time:  1.0 minute, 20.0 seconds\n",
            "Elapsed time:  33.0 minutes, 37.0 seconds\n"
          ],
          "name": "stdout"
        }
      ]
    },
    {
      "cell_type": "code",
      "metadata": {
        "id": "nmI6YxxJ53ei",
        "colab_type": "code",
        "outputId": "942c7e7a-04ef-405f-be71-6e3e799d5f13",
        "colab": {
          "base_uri": "https://localhost:8080/",
          "height": 684
        }
      },
      "source": [
        "import matplotlib as mpl\n",
        "import matplotlib.pyplot as plt\n",
        "import numpy as np\n",
        "\n",
        "print(model1.metrics_names)\n",
        "plt.style.use('fivethirtyeight')\n",
        "\n",
        "# Train accuracy\n",
        "print(history[0].history.keys())\n",
        "\n",
        "plt.title('Accuracy vs. Epochs')\n",
        "plt.xlabel('Epochs')\n",
        "plt.ylabel('accuracy')\n",
        "\n",
        "\n",
        "plt.axis([-1, len(acc_log), 0.6, 1])\n",
        "plt.plot(range(len(acc_log)), acc_log, color='olive', linewidth=2, label=\"Training\")\n",
        "plt.plot(range(len(acc_test)), acc_test, color='purple', linewidth=2, label=\"Test\")\n",
        "plt.legend()\n",
        "plt.show()\n",
        "\n",
        "print()\n",
        "\n",
        "# Train loss\n",
        "plt.title('Loss vs. Epochs')\n",
        "plt.xlabel('Epochs')\n",
        "plt.ylabel('loss')\n",
        "\n",
        "plt.axis([-1, len(loss_log), 0, 1.75])\n",
        "plt.plot(range(len(loss_log)), loss_log, color='olive', linewidth=2, label=\"Training\")\n",
        "plt.plot(range(len(loss_test)), loss_test, color='purple', linewidth=2, label=\"Test\")\n",
        "plt.legend()\n",
        "plt.show()"
      ],
      "execution_count": 0,
      "outputs": [
        {
          "output_type": "stream",
          "text": [
            "['loss', 'sparse_categorical_accuracy']\n",
            "dict_keys(['loss', 'sparse_categorical_accuracy'])\n"
          ],
          "name": "stdout"
        },
        {
          "output_type": "display_data",
          "data": {
            "image/png": "[encoded data removed]",
            "text/plain": [
              "<Figure size 432x288 with 1 Axes>"
            ]
          },
          "metadata": {
            "tags": []
          }
        },
        {
          "output_type": "stream",
          "text": [
            "\n"
          ],
          "name": "stdout"
        },
        {
          "output_type": "display_data",
          "data": {
            "image/png": "[encoded data removed]",
            "text/plain": [
              "<Figure size 432x288 with 1 Axes>"
            ]
          },
          "metadata": {
            "tags": []
          }
        }
      ]
    },
    {
      "cell_type": "code",
      "metadata": {
        "id": "nxcQDB_yMjnf",
        "colab_type": "code",
        "outputId": "93ac4c34-aeec-4afc-aafa-5046db32cfda",
        "colab": {
          "base_uri": "https://localhost:8080/",
          "height": 238
        }
      },
      "source": [
        "sentences_2nd[0]"
      ],
      "execution_count": 0,
      "outputs": [
        {
          "output_type": "execute_result",
          "data": {
            "text/plain": [
              "['December',\n",
              " '1998',\n",
              " 'Your',\n",
              " 'contribution',\n",
              " 'to',\n",
              " 'Goodwill',\n",
              " 'will',\n",
              " 'mean',\n",
              " 'more',\n",
              " 'than',\n",
              " 'you',\n",
              " 'may',\n",
              " 'know']"
            ]
          },
          "metadata": {
            "tags": []
          },
          "execution_count": 22
        }
      ]
    },
    {
      "cell_type": "code",
      "metadata": {
        "id": "67ozP400Ash1",
        "colab_type": "code",
        "colab": {}
      },
      "source": [
        "# ************************************************************\n",
        "# ****************  2nd Neural Network ***********************\n",
        "# ************************************************************\n",
        "\n",
        "from sklearn.model_selection import train_test_split\n",
        "\n",
        "np.save('sentences_2nd_db3.npy', sentences_2nd)\n",
        "np.save('trainint_2ndNN_db3.npy', training_2ndNN)\n",
        "\n",
        "train_pos_2nd, test_pos_2nd, train_sp, test_sp = train_test_split(sentences_2nd, training_2ndNN, shuffle=True, test_size=0.3, random_state=5)\n",
        "\n",
        "np.save('train_pos_2nd_db3.npy', train_pos_2nd)\n",
        "np.save('test_pos_2nd_db3.npy', test_pos_2nd)\n",
        "np.save('train_sp_db3.npy', train_sp)\n",
        "np.save('test_sp_db3.npy', test_sp)\n",
        "\n",
        "train_enc_pos_2nd, test_enc_pos_2nd = [], []\n",
        "train_enc_sp, test_enc_sp = [], []\n",
        "\n",
        "for s in train_pos_2nd:\n",
        "    train_enc_pos_2nd.append([pos_index[word.lower()] for word in s])\n",
        "\n",
        "for s in test_pos_2nd:\n",
        "    test_enc_pos_2nd.append([pos_index[word.lower()] for word in s])     \n",
        "                \n",
        "for s in train_sp:\n",
        "    train_enc_sp.append([sp_index[word.lower()] for word in s])\n",
        "\n",
        "for s in test_sp:\n",
        "    test_enc_sp.append([sp_index[word.lower()] for word in s])"
      ],
      "execution_count": 0,
      "outputs": []
    },
    {
      "cell_type": "code",
      "metadata": {
        "id": "k0mxlYcte5Zi",
        "colab_type": "code",
        "colab": {}
      },
      "source": [
        "# 2nd Neural Network Architecture\n",
        "\n",
        "from tensorflow.python.keras.models import Sequential\n",
        "from tensorflow.python.keras.layers import *\n",
        "from tensorflow.python.keras import backend as K\n",
        "\n",
        "model2 = Sequential()\n",
        "#model.add(InputLayer(input_shape=(None, 1))) # Bug when load_model() is called in Keras 2.2.X \n",
        "model2.add(Lambda(lambda model2: K.batch_flatten(model2), input_shape=(None, 1)))\n",
        "model2.add(Embedding(len(pos_index), 128))\n",
        "model2.add(Bidirectional(CuDNNGRU(128, return_sequences=True)))\n",
        "model2.add(Dropout(0.2))\n",
        "model2.add(TimeDistributed(Dense(len(sp_index))))\n",
        "model2.add(Activation(\"softmax\"))"
      ],
      "execution_count": 0,
      "outputs": []
    },
    {
      "cell_type": "code",
      "metadata": {
        "id": "kyAit7WZe-xu",
        "colab_type": "code",
        "outputId": "99658dd8-1698-4652-d372-65e063a37b1c",
        "colab": {
          "base_uri": "https://localhost:8080/",
          "height": 391
        }
      },
      "source": [
        "# Compile model\n",
        "\n",
        "import tensorflow as tf\n",
        "\n",
        "model2.compile(loss='sparse_categorical_crossentropy',\n",
        "              optimizer=RMSprop(lr=0.0001),\n",
        "              metrics=['sparse_categorical_accuracy'])\n",
        "\n",
        "print(\"Keras version: \", tf.keras.__version__)\n",
        "print(\"Tensorflow version: \", tf.__version__)\n",
        "model2.summary()"
      ],
      "execution_count": 0,
      "outputs": [
        {
          "output_type": "stream",
          "text": [
            "Keras version:  2.2.4-tf\n",
            "Tensorflow version:  1.15.0\n",
            "Model: \"sequential_2\"\n",
            "_________________________________________________________________\n",
            "Layer (type)                 Output Shape              Param #   \n",
            "=================================================================\n",
            "lambda_2 (Lambda)            (None, None)              0         \n",
            "_________________________________________________________________\n",
            "embedding_2 (Embedding)      (None, None, 128)         6784      \n",
            "_________________________________________________________________\n",
            "bidirectional_2 (Bidirection (None, None, 256)         198144    \n",
            "_________________________________________________________________\n",
            "dropout_2 (Dropout)          (None, None, 256)         0         \n",
            "_________________________________________________________________\n",
            "time_distributed_2 (TimeDist (None, None, 3)           771       \n",
            "_________________________________________________________________\n",
            "activation_2 (Activation)    (None, None, 3)           0         \n",
            "=================================================================\n",
            "Total params: 205,699\n",
            "Trainable params: 205,699\n",
            "Non-trainable params: 0\n",
            "_________________________________________________________________\n"
          ],
          "name": "stdout"
        }
      ]
    },
    {
      "cell_type": "code",
      "metadata": {
        "id": "jD9c2rxqRJ78",
        "colab_type": "code",
        "outputId": "c31034c3-1486-4eb3-f685-cb8f036f54c0",
        "colab": {
          "base_uri": "https://localhost:8080/",
          "height": 51
        }
      },
      "source": [
        "# Prepare training data\n",
        "\n",
        "# Convert data to numpy array\n",
        "train_enc_pos_2nd = np.array(train_enc_pos_2nd)\n",
        "train_enc_sp = np.array(train_enc_sp)\n",
        "\n",
        "for i, v in enumerate(train_enc_pos_2nd):\n",
        "    v = np.array(v)\n",
        "    train_enc_pos_2nd[i] = v\n",
        "\n",
        "for i, v in enumerate(train_enc_sp):\n",
        "    v = np.array(v)\n",
        "    train_enc_sp[i] = v\n",
        "    \n",
        "# Show data shape (it only shows first dimension, since the others are different for each sequence)\n",
        "print(train_enc_pos_2nd.shape)\n",
        "print(train_enc_sp.shape)\n",
        "\n",
        "for i in range(len(train_enc_sp)):\n",
        "  train_enc_sp[i] = train_enc_sp[i].reshape(1, len(train_enc_sp[i]), 1)\n",
        "  train_enc_pos_2nd[i] = train_enc_pos_2nd[i].reshape(1, len(train_enc_pos_2nd[i]), 1)\n",
        "\n",
        "for i in range(len(train_enc_sp)):\n",
        "  train_enc_sp[i] = np.array(train_enc_sp[i])\n",
        "  train_enc_pos_2nd[i] = np.array(train_enc_pos_2nd[i])"
      ],
      "execution_count": 0,
      "outputs": [
        {
          "output_type": "stream",
          "text": [
            "(5676,)\n",
            "(5676,)\n"
          ],
          "name": "stdout"
        }
      ]
    },
    {
      "cell_type": "code",
      "metadata": {
        "id": "-gMT3wLZT3AG",
        "colab_type": "code",
        "outputId": "abb980d4-f29d-42a3-c0ea-cb5233b13d8f",
        "colab": {
          "base_uri": "https://localhost:8080/",
          "height": 51
        }
      },
      "source": [
        "# Prepare test data\n",
        "\n",
        "# Convert data to numpy array\n",
        "\n",
        "test_enc_sp = np.array(test_enc_sp)\n",
        "test_enc_pos_2nd = np.array(test_enc_pos_2nd)\n",
        "\n",
        "for i, v in enumerate(test_enc_pos_2nd):\n",
        "    v = np.array(v)\n",
        "    test_enc_pos_2nd[i] = v\n",
        "\n",
        "for i, v in enumerate(test_enc_sp):\n",
        "    v = np.array(v)\n",
        "    test_enc_sp[i] = v\n",
        "\n",
        "# Show data shape (it only shows first dimension, since the others are different for each sequence)\n",
        "print(test_enc_pos_2nd.shape)\n",
        "print(test_enc_sp.shape)\n",
        "\n",
        "for i in range(len(test_enc_sp)):\n",
        "  test_enc_sp[i] = test_enc_sp[i].reshape(1, len(test_enc_sp[i]), 1)\n",
        "  test_enc_pos_2nd[i] = test_enc_pos_2nd[i].reshape(1, len(test_enc_pos_2nd[i]), 1)\n",
        "\n",
        "for i in range(len(test_enc_sp)):\n",
        "  test_enc_sp[i] = np.array(test_enc_sp[i])\n",
        "  test_enc_pos_2nd[i] = np.array(test_enc_pos_2nd[i])"
      ],
      "execution_count": 0,
      "outputs": [
        {
          "output_type": "stream",
          "text": [
            "(2515,)\n",
            "(2433,)\n"
          ],
          "name": "stdout"
        }
      ]
    },
    {
      "cell_type": "code",
      "metadata": {
        "id": "3KgyO7tjfc-q",
        "colab_type": "code",
        "outputId": "7432a43f-2343-4e63-d8c5-7cf42b610c7c",
        "colab": {
          "base_uri": "https://localhost:8080/",
          "height": 921
        }
      },
      "source": [
        "# Fit the model\n",
        "from tensorflow.python.client import device_lib\n",
        "print(device_lib.list_local_devices())\n",
        "\n",
        "acc_log = []\n",
        "loss_log = []\n",
        "\n",
        "acc_test = []\n",
        "loss_test = []\n",
        "\n",
        "start = time.time()\n",
        "\n",
        "for epoch in range(20):\n",
        "    print(\"Epoch \", epoch+1, end='')\n",
        "    startl = time.time()\n",
        "\n",
        "    history = [model2.fit(seq, label, verbose=0) for seq, label in zip(train_enc_pos_2nd, train_enc_sp)] \n",
        "\n",
        "    scores = [model2.evaluate(seq, label, verbose=0) for seq, label in zip(test_enc_pos_2nd, test_enc_sp)]\n",
        "\n",
        "    x, y = [], []\n",
        "\n",
        "    for i in range(len(history)):\n",
        "      x.append(history[i].history['sparse_categorical_accuracy'][0])\n",
        "      y.append(history[i].history['loss'][0])\n",
        "      \n",
        "    acc = sum(x) / len(history)\n",
        "    acc_log.append(acc)\n",
        "\n",
        "    lss = sum(y) / len(history)\n",
        "    loss_log.append(lss)\n",
        "\n",
        "    print(\" - sparse_categorical_accuracy: \", acc, end='')\n",
        "    print(\" - loss: \", lss, end='')\n",
        "\n",
        "    x, y = [], []\n",
        "\n",
        "    for i in range(len(scores)):\n",
        "      x.append(scores[i][1])\n",
        "      y.append(scores[i][0])\n",
        "      \n",
        "    acct = sum(x) / len(scores)\n",
        "    acc_test.append(acct)\n",
        "\n",
        "    lsst = sum(y) / len(scores)\n",
        "    loss_test.append(lsst)\n",
        "\n",
        "    print(\" - test sparse_categorical_accuracy: \", acct, end='')\n",
        "    print(\" - test loss: \", lsst, end='')\n",
        "\n",
        "    endl = time.time()        \n",
        "    elapsed_time = endl-startl\n",
        "    print(\", Elapsed time: \", display_time(elapsed_time))\n",
        "\n",
        "end = time.time()\n",
        "elapsed_time = end-start\n",
        "print(\"Elapsed time: \", display_time(elapsed_time))\n",
        "\n",
        "# Save Model\n",
        "model2.save('PM_ESCIM19_DB3_N2.h5')\n",
        "np.save('acc_log_n2_db3.npy', acc_log)\n",
        "np.save('loss_log_n2_db3.npy', loss_log)\n",
        "np.save('acc_test_n2_db3.npy', acc_test)\n",
        "np.save('loss_test_n2_db3.npy', loss_test)"
      ],
      "execution_count": 0,
      "outputs": [
        {
          "output_type": "stream",
          "text": [
            "[name: \"/device:CPU:0\"\n",
            "device_type: \"CPU\"\n",
            "memory_limit: 268435456\n",
            "locality {\n",
            "}\n",
            "incarnation: 4873335649911471872\n",
            ", name: \"/device:XLA_CPU:0\"\n",
            "device_type: \"XLA_CPU\"\n",
            "memory_limit: 17179869184\n",
            "locality {\n",
            "}\n",
            "incarnation: 18284063535509697901\n",
            "physical_device_desc: \"device: XLA_CPU device\"\n",
            ", name: \"/device:XLA_GPU:0\"\n",
            "device_type: \"XLA_GPU\"\n",
            "memory_limit: 17179869184\n",
            "locality {\n",
            "}\n",
            "incarnation: 5323803073565569920\n",
            "physical_device_desc: \"device: XLA_GPU device\"\n",
            ", name: \"/device:GPU:0\"\n",
            "device_type: \"GPU\"\n",
            "memory_limit: 11330115994\n",
            "locality {\n",
            "  bus_id: 1\n",
            "  links {\n",
            "  }\n",
            "}\n",
            "incarnation: 6114637372480251249\n",
            "physical_device_desc: \"device: 0, name: Tesla K80, pci bus id: 0000:00:04.0, compute capability: 3.7\"\n",
            "]\n",
            "Epoch  1 - sparse_categorical_accuracy:  0.8406210421368616 - loss:  0.4154895018430793 - test sparse_categorical_accuracy:  0.873515268157673 - test loss:  0.34142901129106523, Elapsed time:  1.0 minute, 26.0 seconds\n",
            "Epoch  2 - sparse_categorical_accuracy:  0.8820533407162914 - loss:  0.3273027726671033 - test sparse_categorical_accuracy:  0.8844982712138008 - test loss:  0.3147744216262013, Elapsed time:  1.0 minute, 24.0 seconds\n",
            "Epoch  3 - sparse_categorical_accuracy:  0.8875752804621035 - loss:  0.3102472439444236 - test sparse_categorical_accuracy:  0.8867892904526355 - test loss:  0.30450537135455935, Elapsed time:  1.0 minute, 23.0 seconds\n",
            "Epoch  4 - sparse_categorical_accuracy:  0.8903006075476471 - loss:  0.2982032670706277 - test sparse_categorical_accuracy:  0.8886971577352768 - test loss:  0.2943593700652949, Elapsed time:  1.0 minute, 23.0 seconds\n",
            "Epoch  5 - sparse_categorical_accuracy:  0.8916447703604186 - loss:  0.2903512059667336 - test sparse_categorical_accuracy:  0.8904388742257282 - test loss:  0.2885960799922682, Elapsed time:  1.0 minute, 23.0 seconds\n",
            "Epoch  6 - sparse_categorical_accuracy:  0.8936062316115554 - loss:  0.28606522962516573 - test sparse_categorical_accuracy:  0.8920219737747006 - test loss:  0.28316969603315023, Elapsed time:  1.0 minute, 23.0 seconds\n",
            "Epoch  7 - sparse_categorical_accuracy:  0.8951898602088828 - loss:  0.2822786284744006 - test sparse_categorical_accuracy:  0.8932715125176772 - test loss:  0.28042314521962813, Elapsed time:  1.0 minute, 23.0 seconds\n",
            "Epoch  8 - sparse_categorical_accuracy:  0.8953068582242626 - loss:  0.281430155747837 - test sparse_categorical_accuracy:  0.8939454788858882 - test loss:  0.27694617134155847, Elapsed time:  1.0 minute, 24.0 seconds\n",
            "Epoch  9 - sparse_categorical_accuracy:  0.8960292008695593 - loss:  0.27984851806149025 - test sparse_categorical_accuracy:  0.8945936703012527 - test loss:  0.27489960344572023, Elapsed time:  1.0 minute, 23.0 seconds\n",
            "Epoch  10 - sparse_categorical_accuracy:  0.8964705288632024 - loss:  0.2790036184952064 - test sparse_categorical_accuracy:  0.8953339311669772 - test loss:  0.2718104863020852, Elapsed time:  1.0 minute, 23.0 seconds\n",
            "Epoch  11 - sparse_categorical_accuracy:  0.897101775931432 - loss:  0.27839502771879715 - test sparse_categorical_accuracy:  0.8958389096611256 - test loss:  0.2702601346597068, Elapsed time:  1.0 minute, 23.0 seconds\n",
            "Epoch  12 - sparse_categorical_accuracy:  0.897817584622318 - loss:  0.2762450177190577 - test sparse_categorical_accuracy:  0.8958213303055946 - test loss:  0.2684824729522122, Elapsed time:  1.0 minute, 23.0 seconds\n",
            "Epoch  13 - sparse_categorical_accuracy:  0.8976864919960341 - loss:  0.27637068670568277 - test sparse_categorical_accuracy:  0.8964528050204755 - test loss:  0.2675127110228117, Elapsed time:  1.0 minute, 23.0 seconds\n",
            "Epoch  14 - sparse_categorical_accuracy:  0.8989816068542348 - loss:  0.2752728100316183 - test sparse_categorical_accuracy:  0.897203894161328 - test loss:  0.2662228723045131, Elapsed time:  1.0 minute, 23.0 seconds\n",
            "Epoch  15 - sparse_categorical_accuracy:  0.8991989061680056 - loss:  0.2741583495446091 - test sparse_categorical_accuracy:  0.898174884291561 - test loss:  0.2666866860467867, Elapsed time:  1.0 minute, 23.0 seconds\n",
            "Epoch  16 - sparse_categorical_accuracy:  0.8994004393457169 - loss:  0.2751978639991304 - test sparse_categorical_accuracy:  0.8981309890352034 - test loss:  0.2668142584301807, Elapsed time:  1.0 minute, 23.0 seconds\n",
            "Epoch  17 - sparse_categorical_accuracy:  0.8999855064959583 - loss:  0.27312838224821867 - test sparse_categorical_accuracy:  0.8980863888920627 - test loss:  0.26683129936508737, Elapsed time:  1.0 minute, 24.0 seconds\n",
            "Epoch  18 - sparse_categorical_accuracy:  0.9000731856103428 - loss:  0.2730892014491944 - test sparse_categorical_accuracy:  0.8980203774951757 - test loss:  0.2664027703251112, Elapsed time:  1.0 minute, 23.0 seconds\n",
            "Epoch  19 - sparse_categorical_accuracy:  0.9003744349165848 - loss:  0.273582761563879 - test sparse_categorical_accuracy:  0.8976819118231449 - test loss:  0.26746326633404627, Elapsed time:  1.0 minute, 24.0 seconds\n",
            "Epoch  20 - sparse_categorical_accuracy:  0.9010664522300006 - loss:  0.27107681302468023 - test sparse_categorical_accuracy:  0.8979196838768138 - test loss:  0.2671937472056835, Elapsed time:  1.0 minute, 23.0 seconds\n",
            "Elapsed time:  27.0 minutes, 55.0 seconds\n"
          ],
          "name": "stdout"
        }
      ]
    },
    {
      "cell_type": "code",
      "metadata": {
        "id": "F4Tl1wvhh947",
        "colab_type": "code",
        "outputId": "02e9ccce-3987-4896-85cb-123b2659d8af",
        "colab": {
          "base_uri": "https://localhost:8080/",
          "height": 684
        }
      },
      "source": [
        "import matplotlib as mpl\n",
        "import matplotlib.pyplot as plt\n",
        "\n",
        "print(model2.metrics_names)\n",
        "plt.style.use('fivethirtyeight')\n",
        "\n",
        "# Train accuracy\n",
        "print(history[0].history.keys())\n",
        "\n",
        "plt.title('Accuracy vs. Epochs')\n",
        "plt.xlabel('Epochs')\n",
        "plt.ylabel('accuracy')\n",
        "\n",
        "\n",
        "plt.axis([-1, len(acc_log), 0.82, 0.95])\n",
        "plt.plot(range(len(acc_log)), acc_log, color='olive', linewidth=2, label=\"Training\")\n",
        "plt.plot(range(len(acc_test)), acc_test, color='purple', linewidth=2, label=\"Test\")\n",
        "plt.legend()\n",
        "plt.show()\n",
        "\n",
        "print()\n",
        "\n",
        "# Train loss\n",
        "plt.title('Loss vs. Epochs')\n",
        "plt.xlabel('Epochs')\n",
        "plt.ylabel('loss')\n",
        "\n",
        "plt.axis([-1, len(loss_log), 0.20, 0.45])\n",
        "plt.plot(range(len(loss_log)), loss_log, color='olive', linewidth=2, label=\"Training\")\n",
        "plt.plot(range(len(loss_test)), loss_test, color='purple', linewidth=2, label=\"Test\")\n",
        "plt.legend()\n",
        "plt.show()"
      ],
      "execution_count": 0,
      "outputs": [
        {
          "output_type": "stream",
          "text": [
            "['loss', 'sparse_categorical_accuracy']\n",
            "dict_keys(['loss', 'sparse_categorical_accuracy'])\n"
          ],
          "name": "stdout"
        },
        {
          "output_type": "display_data",
          "data": {
            "image/png": "[encoded data removed]",
            "text/plain": [
              "<Figure size 432x288 with 1 Axes>"
            ]
          },
          "metadata": {
            "tags": []
          }
        },
        {
          "output_type": "stream",
          "text": [
            "\n"
          ],
          "name": "stdout"
        },
        {
          "output_type": "display_data",
          "data": {
            "image/png": "[encoded data removed]",
            "text/plain": [
              "<Figure size 432x288 with 1 Axes>"
            ]
          },
          "metadata": {
            "tags": []
          }
        }
      ]
    },
    {
      "cell_type": "code",
      "metadata": {
        "id": "AtLKrIboMyIC",
        "colab_type": "code",
        "outputId": "c7c5339d-e0f6-4856-9d7e-ec319be5fc8d",
        "colab": {
          "base_uri": "https://localhost:8080/",
          "height": 122
        }
      },
      "source": [
        "# Mount GDrive Data\n",
        "\n",
        "from google.colab import drive\n",
        "drive.mount('/content/gdrive')"
      ],
      "execution_count": 0,
      "outputs": [
        {
          "output_type": "stream",
          "text": [
            "Go to this URL in a browser: https://accounts.google.com/o/oauth2/auth?client_id=947318989803-6bn6qk8qdgf4n4g3pfee6491hc0brc4i.apps.googleusercontent.com&redirect_uri=urn%3Aietf%3Awg%3Aoauth%3A2.0%3Aoob&scope=email%20https%3A%2F%2Fwww.googleapis.com%2Fauth%2Fdocs.test%20https%3A%2F%2Fwww.googleapis.com%2Fauth%2Fdrive%20https%3A%2F%2Fwww.googleapis.com%2Fauth%2Fdrive.photos.readonly%20https%3A%2F%2Fwww.googleapis.com%2Fauth%2Fpeopleapi.readonly&response_type=code\n",
            "\n",
            "Enter your authorization code:\n",
            "··········\n",
            "Mounted at /content/gdrive\n"
          ],
          "name": "stdout"
        }
      ]
    },
    {
      "cell_type": "code",
      "metadata": {
        "id": "TFIZd58Dc9SI",
        "colab_type": "code",
        "colab": {}
      },
      "source": [
        "# ************************************************************\n",
        "# *******************  TEST MODEL  ***************************\n",
        "# ************************************************************\n",
        "\n",
        "import numpy as np\n",
        "import nltk\n",
        "import tensorflow as tf\n",
        "from tensorflow.python.keras.models import load_model\n",
        "from tensorflow.python.keras.models import Sequential\n",
        "from tensorflow.python.keras.layers import *\n",
        "from tensorflow.python.keras.optimizers import RMSprop\n",
        "\n",
        "# Load models\n",
        "model1 = load_model('/content/gdrive/My Drive/datasets/PM_ESCIM19_DB3_N1.h5')\n",
        "model1.compile(loss='sparse_categorical_crossentropy', optimizer=RMSprop(lr=0.0001), metrics=['sparse_categorical_accuracy'])\n",
        "\n",
        "model2 = load_model('/content/gdrive/My Drive/datasets/PM_ESCIM19_DB3_N2.h5')\n",
        "model2.compile(loss='sparse_categorical_crossentropy', optimizer=RMSprop(lr=0.0001), metrics=['sparse_categorical_accuracy'])\n",
        "\n",
        "# Load dictionaries\n",
        "word_index = np.load('/content/gdrive/My Drive/datasets/word_index_db3.npy', allow_pickle=True).item()\n",
        "pos_index = np.load('/content/gdrive/My Drive/datasets/pos_index_db3.npy', allow_pickle=True).item()\n",
        "sp_index = np.load('/content/gdrive/My Drive/datasets/sp_index_db3.npy', allow_pickle=True).item()\n"
      ],
      "execution_count": 0,
      "outputs": []
    },
    {
      "cell_type": "code",
      "metadata": {
        "id": "x5rvLGlTkfeo",
        "colab_type": "code",
        "outputId": "5f7b86c4-4ba0-44e7-87f4-d754324d4f23",
        "colab": {
          "base_uri": "https://localhost:8080/",
          "height": 34
        }
      },
      "source": [
        "sentence = \"I am surprised\".split()\n",
        "\n",
        "s_int = []\n",
        "sentence_X = []\n",
        "\n",
        "for word in sentence:\n",
        "    try:\n",
        "        s_int.append(word_index[word.lower()])\n",
        "    except KeyError:\n",
        "        s_int.append(word_index['-PAD-'.lower()])\n",
        "sentence_X = s_int\n",
        "\n",
        "print(sentence_X)"
      ],
      "execution_count": 0,
      "outputs": [
        {
          "output_type": "stream",
          "text": [
            "[8, 221, 2872]\n"
          ],
          "name": "stdout"
        }
      ]
    },
    {
      "cell_type": "code",
      "metadata": {
        "id": "UDagpKDkc9SL",
        "colab_type": "code",
        "outputId": "12440488-0993-4983-e592-983ee173dd39",
        "colab": {
          "base_uri": "https://localhost:8080/",
          "height": 68
        }
      },
      "source": [
        "sentence_X = np.array(sentence_X)\n",
        "\n",
        "predictions = model1.predict(sentence_X.reshape(1, len(sentence_X), 1))\n",
        "\n",
        "def logits_to_tokens(sequences, index):\n",
        "    token_sequences = []\n",
        "    for categorical_sequence in sequences:\n",
        "        token_sequence = []\n",
        "        for categorical in categorical_sequence:\n",
        "            token_sequence.append(index[np.argmax(categorical)])\n",
        " \n",
        "        token_sequences.append(token_sequence)\n",
        " \n",
        "    return token_sequences\n",
        "\n",
        "magic1 = logits_to_tokens(predictions, {i: t for t, i in pos_index.items()})\n",
        "\n",
        "magic1[0] = [magic1[0][i].upper() for i in range(len(magic1[0]))]\n",
        "\n",
        "print(\"Input test sentence:\", sentence)\n",
        "print(\"Predict. 1st network:\", magic1[0])\n",
        "\n",
        "pos_comp = nltk.pos_tag(sentence)\n",
        "\n",
        "for i in range(len(pos_comp)):\n",
        "  pos_comp[i] = pos_comp[i][1]\n",
        "\n",
        "print(\"NLTK POS tagger: \", pos_comp)"
      ],
      "execution_count": 0,
      "outputs": [
        {
          "output_type": "stream",
          "text": [
            "Input test sentence: ['I', 'am', 'surprised']\n",
            "Predict. 1st network: ['PRP', 'VBP', 'JJ']\n",
            "NLTK POS tagger:  ['PRP', 'VBP', 'JJ']\n"
          ],
          "name": "stdout"
        }
      ]
    },
    {
      "cell_type": "code",
      "metadata": {
        "id": "3p6DkhTlROS2",
        "colab_type": "code",
        "outputId": "557ee899-bd60-42a0-c1f9-5d34db37b926",
        "colab": {
          "base_uri": "https://localhost:8080/",
          "height": 34
        }
      },
      "source": [
        "print(\"Workd tokenize: \", nltk.word_tokenize(\"I am surprised\"))"
      ],
      "execution_count": 0,
      "outputs": [
        {
          "output_type": "stream",
          "text": [
            "Workd tokenize:  ['I', 'am', 'surprised']\n"
          ],
          "name": "stdout"
        }
      ]
    },
    {
      "cell_type": "code",
      "metadata": {
        "id": "fjerKjfBPjy1",
        "colab_type": "code",
        "outputId": "66a34914-4cea-4430-f866-cc82326170ad",
        "colab": {
          "base_uri": "https://localhost:8080/",
          "height": 34
        }
      },
      "source": [
        "print(\"NLTK POS tagger: \", nltk.pos_tag(sentence))"
      ],
      "execution_count": 0,
      "outputs": [
        {
          "output_type": "stream",
          "text": [
            "NLTK POS tagger:  [('I', 'PRP'), ('am', 'VBP'), ('surprised', 'JJ')]\n"
          ],
          "name": "stdout"
        }
      ]
    },
    {
      "cell_type": "code",
      "metadata": {
        "id": "C1cJpKwzPoJz",
        "colab_type": "code",
        "outputId": "20a2b8e1-ff52-4a60-d0e7-0b4d9e2e1910",
        "colab": {
          "base_uri": "https://localhost:8080/",
          "height": 68
        }
      },
      "source": [
        "import nltk \n",
        "nltk.download('punkt')"
      ],
      "execution_count": 0,
      "outputs": [
        {
          "output_type": "stream",
          "text": [
            "[nltk_data] Downloading package punkt to /root/nltk_data...\n",
            "[nltk_data]   Unzipping tokenizers/punkt.zip.\n"
          ],
          "name": "stdout"
        },
        {
          "output_type": "execute_result",
          "data": {
            "text/plain": [
              "True"
            ]
          },
          "metadata": {
            "tags": []
          },
          "execution_count": 29
        }
      ]
    },
    {
      "cell_type": "code",
      "metadata": {
        "id": "Y7613hbSlBaT",
        "colab_type": "code",
        "outputId": "45cf199b-8278-4614-d63f-65947770ed0d",
        "colab": {
          "base_uri": "https://localhost:8080/",
          "height": 34
        }
      },
      "source": [
        "sentence_pos = magic1[0]\n",
        "\n",
        "s_int = []\n",
        "sentence_X = []\n",
        "\n",
        "for word in sentence_pos:\n",
        "    try:\n",
        "        s_int.append(pos_index[word.lower()])\n",
        "    except KeyError:\n",
        "        s_int.append(pos_index['-PAD-'.lower()])\n",
        "sentence_X = s_int\n",
        "\n",
        "print(sentence_X)"
      ],
      "execution_count": 0,
      "outputs": [
        {
          "output_type": "stream",
          "text": [
            "[5, 12, 6]\n"
          ],
          "name": "stdout"
        }
      ]
    },
    {
      "cell_type": "code",
      "metadata": {
        "id": "RGDpQV8plNAR",
        "colab_type": "code",
        "outputId": "e5d1bc89-ef4b-4c48-e08c-930a7e71c210",
        "colab": {
          "base_uri": "https://localhost:8080/",
          "height": 51
        }
      },
      "source": [
        "sentence_X = np.array(sentence_X)\n",
        "\n",
        "predictions = model2.predict(sentence_X.reshape(1, len(sentence_X), 1))\n",
        "\n",
        "def logits_to_tokens(sequences, index):\n",
        "    token_sequences = []\n",
        "    for categorical_sequence in sequences:\n",
        "        token_sequence = []\n",
        "        for categorical in categorical_sequence:\n",
        "            token_sequence.append(index[np.argmax(categorical)])\n",
        " \n",
        "        token_sequences.append(token_sequence)\n",
        " \n",
        "    return token_sequences\n",
        "\n",
        "magic2 = logits_to_tokens(predictions, {i: t for t, i in sp_index.items()})\n",
        "\n",
        "magic2[0] = [magic2[0][i].upper() for i in range(len(magic2[0]))]\n",
        "\n",
        "print(sentence)\n",
        "print(magic2[0])\n"
      ],
      "execution_count": 0,
      "outputs": [
        {
          "output_type": "stream",
          "text": [
            "['I', 'am', 'surprised']\n",
            "['NP', 'VP', 'VP']\n"
          ],
          "name": "stdout"
        }
      ]
    },
    {
      "cell_type": "code",
      "metadata": {
        "id": "HWdJ7F039eVy",
        "colab_type": "code",
        "outputId": "7c0947fa-b0fa-40ff-b141-9e9c8c174e0a",
        "colab": {
          "base_uri": "https://localhost:8080/",
          "height": 68
        }
      },
      "source": [
        "for i, word in enumerate(sentence):\n",
        "  print(word, \" - \", end='')\n",
        "  print(magic1[0][i], \" - \", end='')\n",
        "  print(magic2[0][i])"
      ],
      "execution_count": 0,
      "outputs": [
        {
          "output_type": "stream",
          "text": [
            "I  - PRP  - NP\n",
            "am  - VBP  - VP\n",
            "surprised  - JJ  - VP\n"
          ],
          "name": "stdout"
        }
      ]
    },
    {
      "cell_type": "code",
      "metadata": {
        "id": "kTCEq2C5EB7a",
        "colab_type": "code",
        "colab": {}
      },
      "source": [
        ""
      ],
      "execution_count": 0,
      "outputs": []
    }
  ]
}